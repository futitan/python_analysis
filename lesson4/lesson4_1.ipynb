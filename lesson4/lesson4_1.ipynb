{
 "cells": [
  {
   "cell_type": "markdown",
   "id": "1403b780",
   "metadata": {},
   "source": [
    "## 計算三角形的角度\n",
    "\n",
    "### sin(徑度)=對邊/斜邊 ，徑度=asin(對邊/斜邊)\n",
    "### cos(徑度)底邊/斜邊 \n",
    "### tan(徑度)對邊/底邊\n",
    "180/PI* 徑度"
   ]
  },
  {
   "cell_type": "code",
   "execution_count": null,
   "id": "58d4240b",
   "metadata": {},
   "outputs": [
    {
     "name": "stdout",
     "output_type": "stream",
     "text": [
      "對邊: 2.5\n",
      "斜邊: 5.0\n",
      "徑度: 0.5235987755982989\n",
      "角度: 30.0\n"
     ]
    }
   ],
   "source": [
    "#計算3角形的角度\n",
    "import math\n",
    "side=float(input(\"請輸入對邊\"))\n",
    "another_side=float(input(\"請輸入斜邊\"))\n",
    "radians = math.asin(side/another_side)\n",
    "degree = math.degrees(radians)\n",
    "\n",
    "print(\"對邊:\",side)\n",
    "print(\"斜邊:\",another_side)\n",
    "print(\"徑度:\",radians)\n",
    "print(\"角度:\",round(degree,2))"
   ]
  },
  {
   "cell_type": "code",
   "execution_count": 2,
   "id": "ee3b678b",
   "metadata": {},
   "outputs": [
    {
     "name": "stdout",
     "output_type": "stream",
     "text": [
      "對邊: 2.5\n",
      "斜邊: 5.0\n",
      "徑度: 0.5235987755982989\n",
      "角度: 30.0\n"
     ]
    }
   ],
   "source": [
    "import math\n",
    "\n",
    "side = float(input(\"請輸入對邊\"))\n",
    "another_side = float(input(\"請輸入斜邊\"))\n",
    "radians = math.asin(side / another_side)\n",
    "degree = math.degrees(radians)\n",
    "\n",
    "print(\"對邊:\",side)\n",
    "print(\"斜邊:\",another_side)\n",
    "print(\"徑度:\", radians)\n",
    "print(\"角度:\", round(degree,ndigits=2))"
   ]
  },
  {
   "cell_type": "markdown",
   "id": "5d51d28c",
   "metadata": {},
   "source": [
    "## Tuple--小誇號()   **就不可做任何異動**"
   ]
  },
  {
   "cell_type": "code",
   "execution_count": 9,
   "id": "6d35c3db",
   "metadata": {},
   "outputs": [
    {
     "data": {
      "text/plain": [
       "(56, 79, 68)"
      ]
     },
     "execution_count": 9,
     "metadata": {},
     "output_type": "execute_result"
    }
   ],
   "source": [
    "56, 79, 68"
   ]
  },
  {
   "cell_type": "markdown",
   "id": "8175f7c7",
   "metadata": {},
   "source": [
    "### 大學的統計,標準差"
   ]
  },
  {
   "cell_type": "code",
   "execution_count": 8,
   "id": "73e43de5",
   "metadata": {},
   "outputs": [
    {
     "name": "stdout",
     "output_type": "stream",
     "text": [
      "25.0 27.0 29.0\n",
      "平均:27.00\n",
      "標準差:2.00\n"
     ]
    }
   ],
   "source": [
    "import statistics\n",
    "n1= float(input(\"請輸入第1個數\"))\n",
    "n2= float(input(\"請輸入第2個數\"))\n",
    "n3= float(input(\"請輸入第3個數\"))\n",
    "average = statistics.mean((n1,n2,n3))\n",
    "std = statistics.stdev((n1,n2,n3))\n",
    "print(n1,n2,n3)\n",
    "print(f\"平均:{average:.2f}\")\n",
    "print(f\"標準差:{std:.2f}\")"
   ]
  },
  {
   "cell_type": "markdown",
   "id": "a1ba2e3f",
   "metadata": {},
   "source": [
    "if 條件:\n",
    "    # 當條件為 True 時執行的程式碼\n",
    "elif 另一條件:  # 可選\n",
    "    # 當另一條件為 True 時執行的程式碼\n",
    "else:  # 可選\n",
    "    # 當所有條件都為 False 時執行的程式碼\n",
    "說明\n",
    "條件：一個返回 True 或 False 的表達式。\n",
    "if：檢查第一個條件，如果為 True，執行其下的程式碼塊。\n",
    "elif：（else if 的縮寫）用於檢查額外的條件，可有多個 elif。\n",
    "else：當所有條件都不滿足時執行，無條件限制。\n",
    "程式碼塊必須縮排（通常是 4 個空格或 1 個 Tab）。\n",
    "範例\n",
    "python\n",
    "\n",
    "複製\n",
    "# 簡單的 if 範例\n",
    "age = 20\n",
    "\n",
    "if age >= 18:\n",
    "    print(\"你是成年人\")\n",
    "else:\n",
    "    print(\"你未滿 18 歲\")\n",
    "\n",
    "# 使用 elif\n",
    "score = 85\n",
    "\n",
    "if score >= 90:\n",
    "    print(\"等級 A\")\n",
    "elif score >= 80:\n",
    "    print(\"等級 B\")\n",
    "elif score >= 70:\n",
    "    print(\"等級 C\")\n",
    "else:\n",
    "    print(\"等級 D\")\n",
    "條件表達式\n",
    "比較運算子：==, !=, >, <, >=, <=\n",
    "邏輯運算子：and, or, not\n",
    "成員測試：in, not in\n",
    "身份測試：is, is not\n",
    "巢狀 if\n",
    "可以將 if 語句嵌套在另一個 if 語句中：\n",
    "\n",
    "python\n",
    "\n",
    "複製\n",
    "num = 10\n",
    "if num > 0:\n",
    "    print(\"正數\")\n",
    "    if num % 2 == 0:\n",
    "        print(\"偶數\")\n",
    "else:\n",
    "    print(\"非正數\")\n",
    "注意事項\n",
    "條件後要加冒號 :。\n",
    "縮排必須一致，否則會報錯。\n",
    "elif 和 else 是可選的，根據需求使用。\n",
    "條件可以包含複雜的表達式，但建議保持簡潔以提高可讀性。"
   ]
  }
 ],
 "metadata": {
  "kernelspec": {
   "display_name": "base",
   "language": "python",
   "name": "python3"
  },
  "language_info": {
   "codemirror_mode": {
    "name": "ipython",
    "version": 3
   },
   "file_extension": ".py",
   "mimetype": "text/x-python",
   "name": "python",
   "nbconvert_exporter": "python",
   "pygments_lexer": "ipython3",
   "version": "3.12.7"
  }
 },
 "nbformat": 4,
 "nbformat_minor": 5
}
