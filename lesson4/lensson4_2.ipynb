{
 "cells": [
  {
   "cell_type": "markdown",
   "id": "c3c74884",
   "metadata": {},
   "source": [
    "在 Python 中，if 語句用於條件判斷，根據指定的條件執行不同的程式碼塊。它的基本結構如下：\n",
    "\n",
    "語法\n",
    "python\n",
    "\n",
    "if 條件:\n",
    "    # 當條件為 True 時執行的程式碼\n",
    "elif 另一條件:  # 可選\n",
    "    # 當另一條件為 True 時執行的程式碼\n",
    "else:  # 可選\n",
    "    # 當所有條件都為 False 時執行的程式碼\n",
    "說明\n",
    "條件：一個返回 True 或 False 的表達式。\n",
    "if：檢查第一個條件，如果為 True，執行其下的程式碼塊。\n",
    "elif：（else if 的縮寫）用於檢查額外的條件，可有多個 elif。\n",
    "else：當所有條件都不滿足時執行，無條件限制。\n",
    "程式碼塊必須縮排（通常是 4 個空格或 1 個 Tab）。\n",
    "範例\n",
    "python\n",
    "\n",
    "# 簡單的 if 範例\n",
    "age = 20\n",
    "\n",
    "if age >= 18:\n",
    "    print(\"你是成年人\")\n",
    "else:\n",
    "    print(\"你未滿 18 歲\")\n",
    "\n",
    "# 使用 elif\n",
    "score = 85\n",
    "\n",
    "if score >= 90:\n",
    "    print(\"等級 A\")\n",
    "elif score >= 80:\n",
    "    print(\"等級 B\")\n",
    "elif score >= 70:\n",
    "    print(\"等級 C\")\n",
    "else:\n",
    "    print(\"等級 D\")\n",
    "條件表達式\n",
    "比較運算子：==, !=, >, <, >=, <=\n",
    "邏輯運算子：and, or, not\n",
    "成員測試：in, not in\n",
    "身份測試：is, is not\n",
    "巢狀 if\n",
    "可以將 if 語句嵌套在另一個 if 語句中：\n",
    "\n",
    "python\n",
    "\n",
    "num = 10\n",
    "if num > 0:\n",
    "    print(\"正數\")\n",
    "    if num % 2 == 0:\n",
    "        print(\"偶數\")\n",
    "else:\n",
    "    print(\"非正數\")\n",
    "注意事項\n",
    "條件後要加冒號 :。\n",
    "縮排必須一致，否則會報錯。\n",
    "elif 和 else 是可選的，根據需求使用。\n",
    "條件可以包含複雜的表達式，但建議保持簡潔以提高可讀性。"
   ]
  },
  {
   "cell_type": "code",
   "execution_count": 1,
   "id": "85be13b6",
   "metadata": {},
   "outputs": [
    {
     "name": "stdout",
     "output_type": "stream",
     "text": [
      "這是單項選擇\n",
      "這是True的程式區塊\n"
     ]
    }
   ],
   "source": [
    "#if -> 流程控制 \n",
    "#單項選擇\n",
    "if True:\n",
    "    print(\"這是單項選擇\")\n",
    "    print(\"這是True的程式區塊\")"
   ]
  },
  {
   "cell_type": "code",
   "execution_count": 2,
   "id": "b0734d1d",
   "metadata": {},
   "outputs": [
    {
     "name": "stdout",
     "output_type": "stream",
     "text": [
      "這是雙向選擇\n",
      "這是False 的程式區塊\n"
     ]
    }
   ],
   "source": [
    "#if -> 流程控制 \n",
    "#雙項選擇\n",
    "if False:\n",
    "    print(\"這是雙向選擇\")\n",
    "    print(\"這是True 的程式區塊\")\n",
    "else:\n",
    "    print(\"這是雙向選擇\")\n",
    "    print(\"這是False 的程式區塊\")\n",
    "\n"
   ]
  },
  {
   "cell_type": "code",
   "execution_count": 3,
   "id": "a336b02c",
   "metadata": {},
   "outputs": [
    {
     "data": {
      "text/plain": [
       "False"
      ]
     },
     "execution_count": 3,
     "metadata": {},
     "output_type": "execute_result"
    }
   ],
   "source": [
    "# 比較運算子：==, !=, >, <, >=, <=\n",
    "5>3\n",
    "20==20\n",
    "20 !=20"
   ]
  },
  {
   "cell_type": "code",
   "execution_count": null,
   "id": "c20ec81e",
   "metadata": {},
   "outputs": [
    {
     "name": "stdout",
     "output_type": "stream",
     "text": [
      "18,成年\n"
     ]
    }
   ],
   "source": [
    "age =int(input(\"請輸入age:\"))\n",
    "print(age,end=\",\")\n",
    "if age < 18:\n",
    "    print(\"未成年\")\n",
    "else:\n",
    "    print(\"成年\")"
   ]
  },
  {
   "cell_type": "markdown",
   "id": "4b2f92cf",
   "metadata": {},
   "source": [
    "##### 學生總分為300\n",
    "##### 有些學生可以加分5%\n",
    "##### 如果加分後超過300，就以300分為主"
   ]
  },
  {
   "cell_type": "code",
   "execution_count": 11,
   "id": "6cf37629",
   "metadata": {},
   "outputs": [
    {
     "name": "stdout",
     "output_type": "stream",
     "text": [
      "學生原始分數是:290分，加分後為:300分\n"
     ]
    }
   ],
   "source": [
    "scores=int(input(\"請輸入學生分數為(最高300):\"))\n",
    "score_old=scores\n",
    "is_add=input(\"學生是否符合加分條件?(y,n)\")\n",
    "if (is_add=='y'):\n",
    "    scores*=1.05\n",
    "    if scores >300:\n",
    "        scores=300\n",
    "\n",
    "print(f\"學生原始分數是:{score_old}分，加分後為:{round(scores)}分\")"
   ]
  },
  {
   "cell_type": "markdown",
   "id": "b5b7865b",
   "metadata": {},
   "source": [
    "** 處理raise Exception **\n",
    "** try: except:處理錯誤 **"
   ]
  },
  {
   "cell_type": "markdown",
   "id": "609a81a6",
   "metadata": {},
   "source": [
    "方法 1：使用 try-except 捕捉並打印異常\n",
    "try:\n",
    "    # 可能引發異常的程式碼\n",
    "    x = 1 / 0  # 這會引發 ZeroDivisionError\n",
    "except Exception as e:\n",
    "    print(f\"發生異常: {e}\")\n",
    "\n",
    "輸出：\n",
    "發生異常: division by zero\n",
    "\n",
    "方法 2：打印完整的異常堆疊追蹤（Stack Trace）\n",
    "如果想看完整的錯誤訊息（包含異常類型和堆疊追蹤），可以使用 traceback 模組：\n",
    "\n",
    "import traceback\n",
    "try:\n",
    "    x = 1 / 0\n",
    "except Exception as e:\n",
    "    print(\"發生異常:\")\n",
    "    traceback.print_exc()\n",
    "\n",
    "輸出：\n",
    "發生異常:\n",
    "Traceback (most recent call last):\n",
    "  File \"<stdin>\", line 2, in <module>\n",
    "ZeroDivisionError: division by zero\n",
    "\n",
    "\n",
    "方法 3：獲取異常的詳細資訊\n",
    "可以使用 sys.exc_info() 來獲取異常的類型、值和堆疊追蹤：\n",
    "\n",
    "import sys\n",
    "try:\n",
    "    x = 1 / 0\n",
    "except:\n",
    "    exc_type, exc_value, exc_traceback = sys.exc_info()\n",
    "    print(f\"異常類型: {exc_type}\")\n",
    "    print(f\"異常訊息: {exc_value}\")\n",
    "\n",
    "輸出：\n",
    "異常類型: <class 'ZeroDivisionError'>\n",
    "異常訊息: division by zero\n",
    "\n",
    "方法 4：簡單打印異常類型和訊息\n",
    "如果你只想知道異常的類型和訊息：\n",
    "\n",
    "try:\n",
    "    x = 1 / 0\n",
    "except Exception as e:\n",
    "    print(f\"異常類型: {type(e).__name__}\")\n",
    "    print(f\"異常訊息: {e}\")\n",
    "\n",
    "輸出：\n",
    "異常類型: ZeroDivisionError\n",
    "異常訊息: division by zero\n",
    "\n",
    "\n",
    "注意事項\n",
    "使用 Exception as e 能捕捉大多數異常，但如果你知道具體的異常類型（如 ZeroDivisionError、ValueError），建議明確指定以提高程式碼可讀性和精確性。\n",
    "如果不確定異常類型，使用 Exception 是安全的，因為它是所有內建異常的基類。\n",
    "如果需要完整的堆疊追蹤，traceback.print_exc() 是最方便的方式。"
   ]
  },
  {
   "cell_type": "code",
   "execution_count": 13,
   "id": "69a19e85",
   "metadata": {},
   "outputs": [
    {
     "name": "stdout",
     "output_type": "stream",
     "text": [
      "發生錯誤\n"
     ]
    }
   ],
   "source": [
    "try:\n",
    "   25/0\n",
    "except:\n",
    "    print(\"發生錯誤\")"
   ]
  },
  {
   "cell_type": "code",
   "execution_count": 14,
   "id": "35d5acb0",
   "metadata": {},
   "outputs": [
    {
     "name": "stdout",
     "output_type": "stream",
     "text": [
      "發生錯誤\n",
      "程式結束\n"
     ]
    }
   ],
   "source": [
    "divitionBy = 0\n",
    "try:\n",
    "    print(25 / divitionBy)\n",
    "except:\n",
    "    print(\"發生錯誤\")\n",
    "\n",
    "print(\"程式結束\")"
   ]
  },
  {
   "cell_type": "code",
   "execution_count": null,
   "id": "59099e8a",
   "metadata": {},
   "outputs": [
    {
     "name": "stdout",
     "output_type": "stream",
     "text": [
      "發生不知名錯誤\n",
      "程式結束\n"
     ]
    }
   ],
   "source": [
    "divitionBy = 0\n",
    "try:\n",
    "    print(30/\"10\")\n",
    "    print(25 / divitionBy)\n",
    "except ZeroDivisionError:\n",
    "    print(\"除數不可以為0\")\n",
    "except :\n",
    "    print(\"發生不知名錯誤\")\n",
    "print(\"程式結束\")\n"
   ]
  },
  {
   "cell_type": "code",
   "execution_count": null,
   "id": "83bc243c",
   "metadata": {},
   "outputs": [
    {
     "name": "stdout",
     "output_type": "stream",
     "text": [
      "異常類型: TypeError\n",
      "異常訊息: unsupported operand type(s) for /: 'int' and 'str'\n"
     ]
    }
   ],
   "source": [
    "divitionBy = 0\n",
    "try:\n",
    "    print(30/\"10\")\n",
    "    print(25 / divitionBy)\n",
    "except ZeroDivisionError:\n",
    "    print(\"除數不可以為0\")\n",
    "except Exception as e:  #列印出錯誤異常訊息\n",
    "    print(f\"異常類型: {type(e).__name__}\")\n",
    "    print(f\"異常訊息: {e}\")\n",
    "print(\"程式結束\")"
   ]
  },
  {
   "cell_type": "code",
   "execution_count": 17,
   "id": "b5a30014",
   "metadata": {},
   "outputs": [
    {
     "name": "stdout",
     "output_type": "stream",
     "text": [
      "異常類型: ValueError\n",
      "異常訊息: invalid literal for int() with base 10: '2a'\n",
      "程式結束\n"
     ]
    }
   ],
   "source": [
    "try:\n",
    "    scores=int(input(\"請輸入學生分數為(最高300):\"))\n",
    "    score_old=scores\n",
    "    is_add=input(\"學生是否符合加分條件?(y,n)\")\n",
    "    if (is_add=='y'):\n",
    "        scores*=1.05\n",
    "        if scores >300:\n",
    "            scores=300\n",
    "\n",
    "    print(f\"學生原始分數是:{score_old}分，加分後為:{round(scores)}分\")\n",
    "except Exception as e:\n",
    "    print(f\"異常類型: {type(e).__name__}\")\n",
    "    print(f\"異常訊息: {e}\")\n",
    "print(\"程式結束\")"
   ]
  }
 ],
 "metadata": {
  "kernelspec": {
   "display_name": "base",
   "language": "python",
   "name": "python3"
  },
  "language_info": {
   "codemirror_mode": {
    "name": "ipython",
    "version": 3
   },
   "file_extension": ".py",
   "mimetype": "text/x-python",
   "name": "python",
   "nbconvert_exporter": "python",
   "pygments_lexer": "ipython3",
   "version": "3.12.7"
  }
 },
 "nbformat": 4,
 "nbformat_minor": 5
}
