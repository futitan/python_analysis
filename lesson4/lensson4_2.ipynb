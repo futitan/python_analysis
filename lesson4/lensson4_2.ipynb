{
 "cells": [
  {
   "cell_type": "markdown",
   "id": "c3c74884",
   "metadata": {},
   "source": [
    "在 Python 中，if 語句用於條件判斷，根據指定的條件執行不同的程式碼塊。它的基本結構如下：\n",
    "\n",
    "語法\n",
    "python\n",
    "\n",
    "複製\n",
    "if 條件:\n",
    "    # 當條件為 True 時執行的程式碼\n",
    "elif 另一條件:  # 可選\n",
    "    # 當另一條件為 True 時執行的程式碼\n",
    "else:  # 可選\n",
    "    # 當所有條件都為 False 時執行的程式碼\n",
    "說明\n",
    "條件：一個返回 True 或 False 的表達式。\n",
    "if：檢查第一個條件，如果為 True，執行其下的程式碼塊。\n",
    "elif：（else if 的縮寫）用於檢查額外的條件，可有多個 elif。\n",
    "else：當所有條件都不滿足時執行，無條件限制。\n",
    "程式碼塊必須縮排（通常是 4 個空格或 1 個 Tab）。\n",
    "範例\n",
    "python\n",
    "\n",
    "複製\n",
    "# 簡單的 if 範例\n",
    "age = 20\n",
    "\n",
    "if age >= 18:\n",
    "    print(\"你是成年人\")\n",
    "else:\n",
    "    print(\"你未滿 18 歲\")\n",
    "\n",
    "# 使用 elif\n",
    "score = 85\n",
    "\n",
    "if score >= 90:\n",
    "    print(\"等級 A\")\n",
    "elif score >= 80:\n",
    "    print(\"等級 B\")\n",
    "elif score >= 70:\n",
    "    print(\"等級 C\")\n",
    "else:\n",
    "    print(\"等級 D\")\n",
    "條件表達式\n",
    "比較運算子：==, !=, >, <, >=, <=\n",
    "邏輯運算子：and, or, not\n",
    "成員測試：in, not in\n",
    "身份測試：is, is not\n",
    "巢狀 if\n",
    "可以將 if 語句嵌套在另一個 if 語句中：\n",
    "\n",
    "python\n",
    "\n",
    "複製\n",
    "num = 10\n",
    "if num > 0:\n",
    "    print(\"正數\")\n",
    "    if num % 2 == 0:\n",
    "        print(\"偶數\")\n",
    "else:\n",
    "    print(\"非正數\")\n",
    "注意事項\n",
    "條件後要加冒號 :。\n",
    "縮排必須一致，否則會報錯。\n",
    "elif 和 else 是可選的，根據需求使用。\n",
    "條件可以包含複雜的表達式，但建議保持簡潔以提高可讀性。"
   ]
  },
  {
   "cell_type": "code",
   "execution_count": 2,
   "id": "85be13b6",
   "metadata": {},
   "outputs": [
    {
     "name": "stdout",
     "output_type": "stream",
     "text": [
      "這是單項選擇\n",
      "這是True的程式區塊\n"
     ]
    }
   ],
   "source": [
    "#if -> 流程控制 \n",
    "#單項選擇\n",
    "if True:\n",
    "    print(\"這是單項選擇\")\n",
    "    print(\"這是True的程式區塊\")"
   ]
  },
  {
   "cell_type": "code",
   "execution_count": 4,
   "id": "b0734d1d",
   "metadata": {},
   "outputs": [
    {
     "name": "stdout",
     "output_type": "stream",
     "text": [
      "這是雙向選擇\n",
      "這是False 的程式區塊\n"
     ]
    }
   ],
   "source": [
    "#if -> 流程控制 \n",
    "#雙項選擇\n",
    "if False:\n",
    "    print(\"這是雙向選擇\")\n",
    "    print(\"這是True 的程式區塊\")\n",
    "else:\n",
    "    print(\"這是雙向選擇\")\n",
    "    print(\"這是False 的程式區塊\")\n",
    "\n"
   ]
  }
 ],
 "metadata": {
  "kernelspec": {
   "display_name": "base",
   "language": "python",
   "name": "python3"
  },
  "language_info": {
   "codemirror_mode": {
    "name": "ipython",
    "version": 3
   },
   "file_extension": ".py",
   "mimetype": "text/x-python",
   "name": "python",
   "nbconvert_exporter": "python",
   "pygments_lexer": "ipython3",
   "version": "3.12.7"
  }
 },
 "nbformat": 4,
 "nbformat_minor": 5
}
