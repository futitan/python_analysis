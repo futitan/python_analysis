{
 "cells": [
  {
   "cell_type": "markdown",
   "id": "dd425f23",
   "metadata": {},
   "source": [
    "\n",
    "https://www.perplexity.ai/search/8fd61408-570f-421c-9bc1-875b9f2a95df"
   ]
  },
  {
   "cell_type": "code",
   "execution_count": null,
   "id": "59f17ada",
   "metadata": {},
   "outputs": [
    {
     "name": "stdout",
     "output_type": "stream",
     "text": [
      "3.1415926\n",
      "30\n",
      "robert\n",
      "89\n",
      "95\n",
      "65\n"
     ]
    }
   ],
   "source": [
    "#import 是載入模組\n",
    "#from  模組 import 一個class\n",
    "#複習之前的 model(包含funtion、CLASS、常數(變數)、常數(變數)) 與 實體(CLASS)(包含屬性與方法)定義\n",
    "\n",
    "import tools as ts\n",
    "from tools import Student\n",
    "\n",
    "print(ts.PI)\n",
    "print(ts.func1(10, 20))\n",
    "stu1 = Student(\"robert\", 89, 95, 65)\n",
    "print(stu1.name)\n",
    "print(stu1.chinese)\n",
    "print(stu1.math)\n",
    "print(stu1.english)"
   ]
  },
  {
   "cell_type": "code",
   "execution_count": null,
   "id": "cdc63ab0",
   "metadata": {},
   "outputs": [
    {
     "name": "stdout",
     "output_type": "stream",
     "text": [
      "<class 'pandas.core.frame.DataFrame'>\n",
      "RangeIndex: 376 entries, 0 to 375\n",
      "Data columns (total 5 columns):\n",
      " #   Column              Non-Null Count  Dtype \n",
      "---  ------              --------------  ----- \n",
      " 0   statistic_yyy       371 non-null    object\n",
      " 1   site_id             375 non-null    object\n",
      " 2   people_total        371 non-null    object\n",
      " 3   area                371 non-null    object\n",
      " 4   population_density  371 non-null    object\n",
      "dtypes: object(5)\n",
      "memory usage: 14.8+ KB\n"
     ]
    }
   ],
   "source": [
    "import pandas as pd\n",
    "from pandas import DataFrom\n",
    "df: = pd.read_csv('各鄉鎮市區人口密度.csv')\n",
    "\n",
    "df.info()"
   ]
  }
 ],
 "metadata": {
  "kernelspec": {
   "display_name": "myenv",
   "language": "python",
   "name": "python3"
  },
  "language_info": {
   "codemirror_mode": {
    "name": "ipython",
    "version": 3
   },
   "file_extension": ".py",
   "mimetype": "text/x-python",
   "name": "python",
   "nbconvert_exporter": "python",
   "pygments_lexer": "ipython3",
   "version": "3.10.16"
  }
 },
 "nbformat": 4,
 "nbformat_minor": 5
}
