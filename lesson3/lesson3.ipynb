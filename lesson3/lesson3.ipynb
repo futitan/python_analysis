{
 "cells": [
  {
   "cell_type": "markdown",
   "id": "3b89b75d",
   "metadata": {},
   "source": [
    "## 這是第三節課內容"
   ]
  },
  {
   "cell_type": "code",
   "execution_count": 2,
   "id": "13f1f8b6",
   "metadata": {},
   "outputs": [
    {
     "name": "stdout",
     "output_type": "stream",
     "text": [
      "矩型的寬是:345.8,高是:100245.896,面積是:34665030.84\n"
     ]
    }
   ],
   "source": [
    "width = 345.8\n",
    "height = 100245.896\n",
    "type(width)\n",
    "type(height)\n",
    "area = width * height\n",
    "type(area)\n",
    "print(f\"矩型的寬是:{width},高是:{height},面積是:{round(area,ndigits=2)}\")"
   ]
  }
 ],
 "metadata": {
  "kernelspec": {
   "display_name": "base",
   "language": "python",
   "name": "python3"
  },
  "language_info": {
   "codemirror_mode": {
    "name": "ipython",
    "version": 3
   },
   "file_extension": ".py",
   "mimetype": "text/x-python",
   "name": "python",
   "nbconvert_exporter": "python",
   "pygments_lexer": "ipython3",
   "version": "3.12.7"
  }
 },
 "nbformat": 4,
 "nbformat_minor": 5
}
