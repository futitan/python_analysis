{
 "cells": [
  {
   "cell_type": "markdown",
   "id": "c68f9036",
   "metadata": {},
   "source": [
    "Python 的 zip(l1, l2) 函式作用是把兩個串列（list）l1 和 l2，依序將相同索引位置（即對應位置）的元素配對成元組（tuple），並回傳一個 zip 物件（可迭代的物件）。你可以用 list() 將這個 zip 物件轉換成串列，方便觀察內容。\n",
    "\n",
    "舉例來說：\n",
    "\n",
    "python\n",
    "l1 = [1, 2, 3]\n",
    "l2 = ['a', 'b', 'c']\n",
    "paired = zip(l1, l2)\n",
    "print(list(paired))\n",
    "輸出會是：\n",
    "\n",
    "text\n",
    "[(1, 'a'), (2, 'b'), (3, 'c')]\n",
    "這代表 zip(l1, l2) 會將兩個串列對應位置的元素打包成元組，並依序組成一個新的可迭代物件。\n",
    "\n",
    "如果兩個串列長度不同，zip() 只會處理到最短的串列長度為止"
   ]
  },
  {
   "cell_type": "code",
   "execution_count": 1,
   "id": "3d21adb6",
   "metadata": {},
   "outputs": [
    {
     "data": {
      "text/plain": [
       "[7, 9, 11, 13, 15]"
      ]
     },
     "execution_count": 1,
     "metadata": {},
     "output_type": "execute_result"
    }
   ],
   "source": [
    "l1=[2,3,4,5,6]\n",
    "l2=[5,6,7,8,9]\n",
    "#list comprehension \n",
    "l3 = [value1 + value2 for value1, value2 in zip(l1, l2)]\n",
    "l3"
   ]
  },
  {
   "cell_type": "code",
   "execution_count": 2,
   "id": "ee165f24",
   "metadata": {},
   "outputs": [
    {
     "data": {
      "text/plain": [
       "[2, 3, 4, 5, 6, 5, 6, 7, 8, 9]"
      ]
     },
     "execution_count": 2,
     "metadata": {},
     "output_type": "execute_result"
    }
   ],
   "source": [
    "l1 + l2"
   ]
  },
  {
   "cell_type": "code",
   "execution_count": 2,
   "id": "267d1b14",
   "metadata": {},
   "outputs": [],
   "source": [
    "import numpy as np\n",
    "import pandas as pd"
   ]
  },
  {
   "cell_type": "code",
   "execution_count": null,
   "id": "7989d759",
   "metadata": {},
   "outputs": [
    {
     "data": {
      "text/plain": [
       "array([ 7,  9, 11, 13, 15])"
      ]
     },
     "execution_count": 3,
     "metadata": {},
     "output_type": "execute_result"
    }
   ],
   "source": [
    "#numpy 可用在陣列運算、統計、科學運算\n",
    "n1=np.array([2,3,4,5,6])\n",
    "n2=np.array([5,6,7,8,9])\n",
    "\n",
    "n3=n1+n2\n",
    "n3"
   ]
  }
 ],
 "metadata": {
  "kernelspec": {
   "display_name": "myenv",
   "language": "python",
   "name": "python3"
  },
  "language_info": {
   "codemirror_mode": {
    "name": "ipython",
    "version": 3
   },
   "file_extension": ".py",
   "mimetype": "text/x-python",
   "name": "python",
   "nbconvert_exporter": "python",
   "pygments_lexer": "ipython3",
   "version": "3.10.16"
  }
 },
 "nbformat": 4,
 "nbformat_minor": 5
}
