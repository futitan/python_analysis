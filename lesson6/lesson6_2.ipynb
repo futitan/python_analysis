{
 "cells": [
  {
   "cell_type": "markdown",
   "id": "75ff4b11",
   "metadata": {},
   "source": [
    "### 不知道執行次數的迴圈 while"
   ]
  },
  {
   "cell_type": "markdown",
   "id": "0f96eb64",
   "metadata": {},
   "source": [
    "while 使用注意\n",
    "step1:建立變數\n",
    "step2:while bool: (bool 要比較變數) \n",
    "step3:程式區快要有跳出條件"
   ]
  },
  {
   "cell_type": "code",
   "execution_count": 2,
   "id": "240a36b0",
   "metadata": {},
   "outputs": [
    {
     "name": "stdout",
     "output_type": "stream",
     "text": [
      "恭喜!已經存夠了,存了4月,共存了32000元\n"
     ]
    }
   ],
   "source": [
    "#小明想要存錢買一輛機車,機車每輛30000元，他將每月存的錢輸入，當存款足夠買機車時，就顯示提示訊息告知。\n",
    "#你不知道要存幾個月\n",
    "#必需找到被比較的變數\n",
    "deposit =0\n",
    "month =0\n",
    "while (deposit <30000):\n",
    "    month +=1\n",
    "    input_money = int(input(f\"請輸入第{month}月份的存款:\"))\n",
    "    deposit += input_money\n",
    "print(f\"恭喜!已經存夠了,存了{month}月,共存了{deposit}元\")"
   ]
  },
  {
   "cell_type": "markdown",
   "id": "00e1f374",
   "metadata": {},
   "source": [
    "- break 跳出迴圈\n",
    "- continue 跳到下一個迴圈"
   ]
  },
  {
   "cell_type": "code",
   "execution_count": 3,
   "id": "be12627b",
   "metadata": {},
   "outputs": [
    {
     "name": "stdout",
     "output_type": "stream",
     "text": [
      "恭喜!已經存夠了,存了3月,共存了67132元\n"
     ]
    }
   ],
   "source": [
    "deposit =0\n",
    "month =0\n",
    "while (True):\n",
    "    month +=1\n",
    "    input_money = int(input(f\"請輸入第{month}月份的存款:\"))\n",
    "    deposit += input_money\n",
    "    if (deposit >=30000) :\n",
    "         break\n",
    "print(f\"恭喜!已經存夠了,存了{month}月,共存了{deposit}元\")"
   ]
  },
  {
   "cell_type": "markdown",
   "id": "d2445903",
   "metadata": {},
   "source": [
    "- 奇數輸出平方\n",
    "- 偶數不做任何動作\n",
    "- 按'q'要離開"
   ]
  },
  {
   "cell_type": "code",
   "execution_count": 1,
   "id": "ca187601",
   "metadata": {},
   "outputs": [
    {
     "name": "stdout",
     "output_type": "stream",
     "text": [
      "3的平方是9\n",
      "9的平方是81\n",
      "9的平方是81\n",
      "輸入錯誤，請重新輸入\n",
      "輸入錯誤，請重新輸入\n",
      "應用程式結束\n"
     ]
    }
   ],
   "source": [
    "while (True):\n",
    "    value=input('請輸入整數，輸入[q]離開:')\n",
    "    if value == 'q':\n",
    "        break\n",
    "    try:\n",
    "        value=int(value)\n",
    "    except:\n",
    "        print(\"輸入錯誤，請重新輸入\")\n",
    "        continue\n",
    "    if value % 2 ==1 :\n",
    "        print(f\"{value}的平方是{value**2}\")\n",
    "    #以下可以省略，因為這if 內有無執行都會回到while \n",
    "    #else:\n",
    "    #    continue\n",
    "print(\"應用程式結束\")"
   ]
  },
  {
   "cell_type": "markdown",
   "id": "0d0dff76",
   "metadata": {},
   "source": [
    "### 建立亂數"
   ]
  },
  {
   "cell_type": "code",
   "execution_count": 3,
   "id": "3861ccf5",
   "metadata": {},
   "outputs": [
    {
     "data": {
      "text/plain": [
       "71"
      ]
     },
     "execution_count": 3,
     "metadata": {},
     "output_type": "execute_result"
    }
   ],
   "source": [
    "import random\n",
    "rand_num=random.randint(1,100)\n",
    "rand_num\n"
   ]
  }
 ],
 "metadata": {
  "kernelspec": {
   "display_name": "base",
   "language": "python",
   "name": "python3"
  },
  "language_info": {
   "codemirror_mode": {
    "name": "ipython",
    "version": 3
   },
   "file_extension": ".py",
   "mimetype": "text/x-python",
   "name": "python",
   "nbconvert_exporter": "python",
   "pygments_lexer": "ipython3",
   "version": "3.12.7"
  }
 },
 "nbformat": 4,
 "nbformat_minor": 5
}
