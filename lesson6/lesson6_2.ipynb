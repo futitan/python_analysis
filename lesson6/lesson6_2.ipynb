{
 "cells": [
  {
   "cell_type": "markdown",
   "id": "75ff4b11",
   "metadata": {},
   "source": [
    "### 不知道執行次數的迴圈 while"
   ]
  },
  {
   "cell_type": "markdown",
   "id": "0f96eb64",
   "metadata": {},
   "source": [
    "while 使用注意\n",
    "step1:建立變數\n",
    "step2:while bool: (bool 要比較變數) \n",
    "step3:程式區快要有跳出條件"
   ]
  },
  {
   "cell_type": "code",
   "execution_count": 2,
   "id": "240a36b0",
   "metadata": {},
   "outputs": [
    {
     "name": "stdout",
     "output_type": "stream",
     "text": [
      "恭喜!已經存夠了,存了4月,共存了32000元\n"
     ]
    }
   ],
   "source": [
    "#小明想要存錢買一輛機車,機車每輛30000元，他將每月存的錢輸入，當存款足夠買機車時，就顯示提示訊息告知。\n",
    "#你不知道要存幾個月\n",
    "#必需找到被比較的變數\n",
    "deposit =0\n",
    "month =0\n",
    "while (deposit <30000):\n",
    "    month +=1\n",
    "    input_money = int(input(f\"請輸入第{month}月份的存款:\"))\n",
    "    deposit += input_money\n",
    "print(f\"恭喜!已經存夠了,存了{month}月,共存了{deposit}元\")"
   ]
  },
  {
   "cell_type": "markdown",
   "id": "00e1f374",
   "metadata": {},
   "source": [
    "- break 跳出迴圈\n",
    "- continue 跳到下一個迴圈"
   ]
  },
  {
   "cell_type": "code",
   "execution_count": 3,
   "id": "be12627b",
   "metadata": {},
   "outputs": [
    {
     "name": "stdout",
     "output_type": "stream",
     "text": [
      "恭喜!已經存夠了,存了3月,共存了67132元\n"
     ]
    }
   ],
   "source": [
    "deposit =0\n",
    "month =0\n",
    "while (True):\n",
    "    month +=1\n",
    "    input_money = int(input(f\"請輸入第{month}月份的存款:\"))\n",
    "    deposit += input_money\n",
    "    if (deposit >=30000) :\n",
    "         break\n",
    "print(f\"恭喜!已經存夠了,存了{month}月,共存了{deposit}元\")"
   ]
  }
 ],
 "metadata": {
  "kernelspec": {
   "display_name": "base",
   "language": "python",
   "name": "python3"
  },
  "language_info": {
   "codemirror_mode": {
    "name": "ipython",
    "version": 3
   },
   "file_extension": ".py",
   "mimetype": "text/x-python",
   "name": "python",
   "nbconvert_exporter": "python",
   "pygments_lexer": "ipython3",
   "version": "3.12.7"
  }
 },
 "nbformat": 4,
 "nbformat_minor": 5
}
