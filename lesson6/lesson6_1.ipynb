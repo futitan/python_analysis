{
 "cells": [
  {
   "cell_type": "markdown",
   "id": "ce3ea3c8",
   "metadata": {},
   "source": [
    "# 串列資料(Sequence)--range()、字串、tuple 小誇號表示()、list 中誇號表示[]\n",
    "- tupl 不可修改\n",
    "- list 可修改"
   ]
  },
  {
   "cell_type": "markdown",
   "id": "036637ff",
   "metadata": {},
   "source": [
    "### for _ in _ "
   ]
  },
  {
   "cell_type": "code",
   "execution_count": 1,
   "id": "321168ec",
   "metadata": {},
   "outputs": [
    {
     "name": "stdout",
     "output_type": "stream",
     "text": [
      "2\n",
      "4\n",
      "6\n",
      "8\n",
      "10\n"
     ]
    }
   ],
   "source": [
    "#tuple是串列資料\n",
    "for i in (2, 4, 6, 8, 10):\n",
    "    print(i)"
   ]
  },
  {
   "cell_type": "code",
   "execution_count": 2,
   "id": "af16b48f",
   "metadata": {},
   "outputs": [
    {
     "name": "stdout",
     "output_type": "stream",
     "text": [
      "1\n",
      "3\n",
      "5\n",
      "7\n",
      "9\n"
     ]
    }
   ],
   "source": [
    "\n",
    "#list串列資料\n",
    "for i in [1, 3, 5, 7, 9]:\n",
    "    print(i)"
   ]
  },
  {
   "cell_type": "markdown",
   "id": "dece469e",
   "metadata": {},
   "source": [
    "### 巢狀迴圈"
   ]
  },
  {
   "cell_type": "code",
   "execution_count": 5,
   "id": "f9095c35",
   "metadata": {},
   "outputs": [
    {
     "name": "stdout",
     "output_type": "stream",
     "text": [
      "i=1\n",
      "j=1j=2j=3j=4j=5j=6j=7j=8j=9\n",
      "i=2\n",
      "j=1j=2j=3j=4j=5j=6j=7j=8j=9\n",
      "i=3\n",
      "j=1j=2j=3j=4j=5j=6j=7j=8j=9\n",
      "i=4\n",
      "j=1j=2j=3j=4j=5j=6j=7j=8j=9\n",
      "i=5\n",
      "j=1j=2j=3j=4j=5j=6j=7j=8j=9\n",
      "i=6\n",
      "j=1j=2j=3j=4j=5j=6j=7j=8j=9\n",
      "i=7\n",
      "j=1j=2j=3j=4j=5j=6j=7j=8j=9\n",
      "i=8\n",
      "j=1j=2j=3j=4j=5j=6j=7j=8j=9\n",
      "i=9\n",
      "j=1j=2j=3j=4j=5j=6j=7j=8j=9\n"
     ]
    }
   ],
   "source": [
    "for i in range (1,10):\n",
    "    print(f'i={i}')\n",
    "    for j in range (1,10): \n",
    "        print(f'j={j}',end='')\n",
    "    print()"
   ]
  }
 ],
 "metadata": {
  "kernelspec": {
   "display_name": "base",
   "language": "python",
   "name": "python3"
  },
  "language_info": {
   "codemirror_mode": {
    "name": "ipython",
    "version": 3
   },
   "file_extension": ".py",
   "mimetype": "text/x-python",
   "name": "python",
   "nbconvert_exporter": "python",
   "pygments_lexer": "ipython3",
   "version": "3.12.7"
  }
 },
 "nbformat": 4,
 "nbformat_minor": 5
}
