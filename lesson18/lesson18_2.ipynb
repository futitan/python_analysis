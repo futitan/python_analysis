{
 "cells": [
  {
   "cell_type": "markdown",
   "id": "cd5327c4",
   "metadata": {},
   "source": [
    "https://www.perplexity.ai/search/83b26786-5e8e-4cbe-ac68-acf4626be7c8"
   ]
  },
  {
   "cell_type": "code",
   "execution_count": 2,
   "id": "4dff6b20",
   "metadata": {},
   "outputs": [
    {
     "data": {
      "text/plain": [
       "['每日各站進出站人數20190423-20191231.csv',\n",
       " '每日各站進出站人數2020.csv',\n",
       " '每日各站進出站人數2021.csv',\n",
       " '每日各站進出站人數2022.csv',\n",
       " '每日各站進出站人數2023.csv']"
      ]
     },
     "execution_count": 2,
     "metadata": {},
     "output_type": "execute_result"
    }
   ],
   "source": [
    "import os\n",
    "folder_name='每日各站進出站人數'\n",
    "allitems:list[str]=os.listdir(folder_name)\n",
    "# for folder_name in allitems:\n",
    "#     if len(folder_name) >12:\n",
    "#         print(folder_name)\n",
    "\n",
    "#綜合串列運算語法(comprehension)\n",
    "\n",
    "filenames = [file_name for file_name in allitems if len(file_name) > 12]\n",
    "filenames"
   ]
  }
 ],
 "metadata": {
  "kernelspec": {
   "display_name": "myenv",
   "language": "python",
   "name": "python3"
  },
  "language_info": {
   "codemirror_mode": {
    "name": "ipython",
    "version": 3
   },
   "file_extension": ".py",
   "mimetype": "text/x-python",
   "name": "python",
   "nbconvert_exporter": "python",
   "pygments_lexer": "ipython3",
   "version": "3.10.16"
  }
 },
 "nbformat": 4,
 "nbformat_minor": 5
}
