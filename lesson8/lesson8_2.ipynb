{
 "cells": [
  {
   "cell_type": "markdown",
   "id": "872d6a9a",
   "metadata": {},
   "source": [
    "### python 的資料結構"
   ]
  },
  {
   "cell_type": "code",
   "execution_count": null,
   "id": "cc7488a8",
   "metadata": {},
   "outputs": [],
   "source": [
    "name:str='傅哥'\n",
    "chinese:int=96\n",
    "english:int=85\n",
    "math:int=95"
   ]
  },
  {
   "cell_type": "markdown",
   "id": "47e1a370",
   "metadata": {},
   "source": [
    "### 一組有關係的資料(dictionary)\n",
    "- student:dict={'name':'傅哥','chinese':96,'english':85,'math':95}\n",
    "- student[key]--取出值\n",
    "- student[key]=value--改變值，或新增一組KEY值\n"
   ]
  },
  {
   "cell_type": "code",
   "execution_count": null,
   "id": "5fa5c302",
   "metadata": {},
   "outputs": [
    {
     "data": {
      "text/plain": [
       "{'name': '傅哥', 'chinese': 96, 'english': 85, 'math': 95}"
      ]
     },
     "execution_count": 1,
     "metadata": {},
     "output_type": "execute_result"
    }
   ],
   "source": [
    "student:dict={'name':'傅哥',\n",
    "              'chinese':96,\n",
    "              'english':85,\n",
    "              'math':95}\n",
    "student\n"
   ]
  },
  {
   "cell_type": "code",
   "execution_count": 2,
   "id": "8cb2f500",
   "metadata": {},
   "outputs": [
    {
     "data": {
      "text/plain": [
       "96"
      ]
     },
     "execution_count": 2,
     "metadata": {},
     "output_type": "execute_result"
    }
   ],
   "source": [
    "#取出值\n",
    "student['name']\n",
    "student['chinese']"
   ]
  },
  {
   "cell_type": "code",
   "execution_count": 3,
   "id": "05a1f33b",
   "metadata": {},
   "outputs": [
    {
     "data": {
      "text/plain": [
       "90"
      ]
     },
     "execution_count": 3,
     "metadata": {},
     "output_type": "execute_result"
    }
   ],
   "source": [
    "#改變值\n",
    "student['chinese'] = 90\n",
    "student['chinese']\n"
   ]
  },
  {
   "cell_type": "code",
   "execution_count": 4,
   "id": "a127946e",
   "metadata": {},
   "outputs": [
    {
     "data": {
      "text/plain": [
       "{'name': '傅哥', 'chinese': 90, 'english': 85, 'math': 95, 'history': 84}"
      ]
     },
     "execution_count": 4,
     "metadata": {},
     "output_type": "execute_result"
    }
   ],
   "source": [
    "#新增key\n",
    "student['history'] = 84\n",
    "student"
   ]
  }
 ],
 "metadata": {
  "kernelspec": {
   "display_name": "base",
   "language": "python",
   "name": "python3"
  },
  "language_info": {
   "codemirror_mode": {
    "name": "ipython",
    "version": 3
   },
   "file_extension": ".py",
   "mimetype": "text/x-python",
   "name": "python",
   "nbconvert_exporter": "python",
   "pygments_lexer": "ipython3",
   "version": "3.12.7"
  }
 },
 "nbformat": 4,
 "nbformat_minor": 5
}
