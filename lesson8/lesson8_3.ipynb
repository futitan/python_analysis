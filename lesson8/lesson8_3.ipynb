{
 "cells": [
  {
   "cell_type": "markdown",
   "id": "ba1dbb0a",
   "metadata": {},
   "source": [
    "### 組合多筆資料成為有順序的資料(list)"
   ]
  },
  {
   "cell_type": "code",
   "execution_count": null,
   "id": "53cac53c",
   "metadata": {},
   "outputs": [],
   "source": [
    "nums:list=[1,2,3,4,'a','b','c']"
   ]
  },
  {
   "cell_type": "markdown",
   "id": "0fca2889",
   "metadata": {},
   "source": [
    "### list 內的元素，一邊都是相同的資料類型\n",
    "index 0 1 2 .....由右到左\n",
    "index -1 -2  ....由左到右"
   ]
  },
  {
   "cell_type": "code",
   "execution_count": 4,
   "id": "482ec042",
   "metadata": {},
   "outputs": [
    {
     "data": {
      "text/plain": [
       "[1, 2, 3, 4, 5, 6, 7, 8, 9, 10]"
      ]
     },
     "execution_count": 4,
     "metadata": {},
     "output_type": "execute_result"
    }
   ],
   "source": [
    "nums:list[int]=[1,2,3,4,5,6,7,8,9,10]\n",
    "nums"
   ]
  },
  {
   "cell_type": "code",
   "execution_count": null,
   "id": "b5b5ff69",
   "metadata": {},
   "outputs": [
    {
     "data": {
      "text/plain": [
       "10"
      ]
     },
     "execution_count": 8,
     "metadata": {},
     "output_type": "execute_result"
    }
   ],
   "source": [
    "# 取出元素\n",
    "nums[0]\n",
    "nums[1]\n",
    "nums[9]\n",
    "nums[-1]"
   ]
  },
  {
   "cell_type": "code",
   "execution_count": 6,
   "id": "b574e339",
   "metadata": {},
   "outputs": [
    {
     "data": {
      "text/plain": [
       "[6, 7, 8, 9, 10]"
      ]
     },
     "execution_count": 6,
     "metadata": {},
     "output_type": "execute_result"
    }
   ],
   "source": [
    "#切割元素(slice)\n",
    "nums[0:5]\n",
    "nums[0:5]\n",
    "nums[:5] #前五個\n",
    "nums[-5:] #最後五個\n"
   ]
  },
  {
   "cell_type": "code",
   "execution_count": 7,
   "id": "ba1c6a0b",
   "metadata": {},
   "outputs": [
    {
     "name": "stdout",
     "output_type": "stream",
     "text": [
      "1 2 3 4 5 6 7 8 9 10 "
     ]
    }
   ],
   "source": [
    "#list是串列資料,代表可以iterable\n",
    "for i in nums:\n",
    "    print(i,end=' ')"
   ]
  }
 ],
 "metadata": {
  "kernelspec": {
   "display_name": "base",
   "language": "python",
   "name": "python3"
  },
  "language_info": {
   "codemirror_mode": {
    "name": "ipython",
    "version": 3
   },
   "file_extension": ".py",
   "mimetype": "text/x-python",
   "name": "python",
   "nbconvert_exporter": "python",
   "pygments_lexer": "ipython3",
   "version": "3.12.7"
  }
 },
 "nbformat": 4,
 "nbformat_minor": 5
}
