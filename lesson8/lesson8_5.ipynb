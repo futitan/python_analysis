{
 "cells": [
  {
   "cell_type": "code",
   "execution_count": 1,
   "id": "66a3669a",
   "metadata": {},
   "outputs": [],
   "source": [
    "\n",
    "#1班有5個學生,每個學生有4個資料\n",
    "students:list[dict] = [\n",
    "    {\"name\": \"小明\", \"chinese\": 85, \"english\": 92, \"math\": 78},\n",
    "    {\"name\": \"小華\", \"chinese\": 90, \"english\": 88, \"math\": 95},\n",
    "    {\"name\": \"小美\", \"chinese\": 79, \"english\": 85, \"math\": 90},\n",
    "    {\"name\": \"小強\", \"chinese\": 88, \"english\": 92, \"math\": 87},\n",
    "    {\"name\": \"小麗\", \"chinese\": 95, \"english\": 89, \"math\": 93}\n",
    "]"
   ]
  },
  {
   "cell_type": "code",
   "execution_count": null,
   "id": "84c6549b",
   "metadata": {},
   "outputs": [
    {
     "name": "stdout",
     "output_type": "stream",
     "text": [
      "小明\n",
      "國文:85\n",
      "英文:92\n",
      "數學:78\n",
      "===============\n",
      "小華\n",
      "國文:90\n",
      "英文:88\n",
      "數學:95\n",
      "===============\n",
      "小美\n",
      "國文:79\n",
      "英文:85\n",
      "數學:90\n",
      "===============\n",
      "小強\n",
      "國文:88\n",
      "英文:92\n",
      "數學:87\n",
      "===============\n",
      "小麗\n",
      "國文:95\n",
      "英文:89\n",
      "數學:93\n",
      "===============\n"
     ]
    }
   ],
   "source": [
    "for student in students:\n",
    "    #print(type(student))\n",
    "    print(student['name'])\n",
    "    print(f'國文:{student['chinese']}')\n",
    "    print(f'英文:{student['english']}')\n",
    "    print(f'數學:{student['math']}')  \n",
    "    print(\"===============\")\n"
   ]
  },
  {
   "cell_type": "code",
   "execution_count": null,
   "id": "4e00f504",
   "metadata": {},
   "outputs": [
    {
     "name": "stdout",
     "output_type": "stream",
     "text": [
      "國文90分以上的學生:\n",
      "小華 90\n",
      "小麗 95\n"
     ]
    }
   ],
   "source": [
    "#請取出國文90分以上的學生\n",
    "students:list[dict] = [\n",
    "    {\"name\": \"小明\", \"chinese\": 85, \"english\": 92, \"math\": 78},\n",
    "    {\"name\": \"小華\", \"chinese\": 90, \"english\": 88, \"math\": 95},\n",
    "    {\"name\": \"小美\", \"chinese\": 79, \"english\": 85, \"math\": 90},\n",
    "    {\"name\": \"小強\", \"chinese\": 88, \"english\": 92, \"math\": 87},\n",
    "    {\"name\": \"小麗\", \"chinese\": 95, \"english\": 89, \"math\": 93}\n",
    "]\n",
    "'''\n",
    "high_chinese_students = list(filter(lambda student: student[\"chinese\"] >= 90, students))\n",
    "print(high_chinese_students)\n",
    "'''\n",
    "high_chinese = list(filter(lambda n:n['chinese'] >= 90,students))\n",
    "#print(high_chinese)\n",
    "print(f\"國文90分以上的學生:\")\n",
    "for student_name in high_chinese:\n",
    "    print(student_name[\"name\"],student_name[\"chinese\"])\n"
   ]
  },
  {
   "cell_type": "code",
   "execution_count": 35,
   "id": "9c6921a2",
   "metadata": {},
   "outputs": [
    {
     "name": "stdout",
     "output_type": "stream",
     "text": [
      "90分以上的人有:小華 小麗 "
     ]
    }
   ],
   "source": [
    "students:list[dict] = [\n",
    "    {\"name\": \"小明\", \"chinese\": 85, \"english\": 92, \"math\": 78},\n",
    "    {\"name\": \"小華\", \"chinese\": 90, \"english\": 88, \"math\": 95},\n",
    "    {\"name\": \"小美\", \"chinese\": 79, \"english\": 85, \"math\": 90},\n",
    "    {\"name\": \"小強\", \"chinese\": 88, \"english\": 92, \"math\": 87},\n",
    "    {\"name\": \"小麗\", \"chinese\": 95, \"english\": 89, \"math\": 93}\n",
    "]\n",
    "\n",
    "p=list(filter(lambda x: x['chinese']>=90,students))\n",
    "\n",
    "print(\"90分以上的人有:\",end='')\n",
    "for student in p:\n",
    "    print(student[\"name\"],end=' ')"
   ]
  },
  {
   "cell_type": "code",
   "execution_count": 1,
   "id": "6b7b3b0e",
   "metadata": {},
   "outputs": [
    {
     "name": "stdout",
     "output_type": "stream",
     "text": [
      "國文90分以上的學生: 小華 小麗 \n",
      "成績是: 90 95 "
     ]
    }
   ],
   "source": [
    "students:list[dict] = [\n",
    "                {\"name\": \"小明\", \"chinese\": 85, \"english\": 92, \"math\": 78},\n",
    "                {\"name\": \"小華\", \"chinese\": 90, \"english\": 88, \"math\": 95},\n",
    "                {\"name\": \"小美\", \"chinese\": 79, \"english\": 85, \"math\": 90},\n",
    "                {\"name\": \"小強\", \"chinese\": 88, \"english\": 92, \"math\": 87},\n",
    "                {\"name\": \"小麗\", \"chinese\": 95, \"english\": 89, \"math\": 93}\n",
    "                ]\n",
    "\n",
    "names = [student[\"name\"] for student in students if student['chinese'] >=90]\n",
    "chine_grads = [student[\"chinese\"] for student in students]\n",
    "print(f\"國文90分以上的學生:\",end=' ')\n",
    "for name in names:\n",
    "  print(name,end=' ')\n",
    "print(f\"\\n成績是:\",end=' ')\n",
    "grad_list = list(filter(lambda n:n >= 90 ,chine_grads))\n",
    "for chine_grads in grad_list:\n",
    "  print(chine_grads,end=' ')"
   ]
  },
  {
   "cell_type": "code",
   "execution_count": null,
   "id": "0aed9dd9",
   "metadata": {},
   "outputs": [],
   "source": [
    "students: list[dict] = [\n",
    "    {\"name\": \"小明\", \"chinese\": 85, \"english\": 92, \"math\": 78},\n",
    "    {\"name\": \"小華\", \"chinese\": 90, \"english\": 88, \"math\": 95},\n",
    "    {\"name\": \"小美\", \"chinese\": 79, \"english\": 85, \"math\": 90},\n",
    "    {\"name\": \"小強\", \"chinese\": 88, \"english\": 92, \"math\": 87},\n",
    "    {\"name\": \"小麗\", \"chinese\": 95, \"english\": 89, \"math\": 93}\n",
    "]\n",
    "\n",
    "\n",
    "chinese_passed_students = list(filter(lambda student: student[\"chinese\"] >= 90, students))\n",
    "print(\"\\n國文 90 分以上的學生：\") \n",
    "for student in chinese_passed_students:\n",
    "    print(f\"姓名：{student['name']}, 國文：{student['chinese']}\")\n",
    "\n",
    "english_passed_students = list(filter(lambda student: student[\"english\"] >= 90, students))\n",
    "print(\"\\n英文 90 分以上的學生：\") \n",
    "for student in english_passed_students:\n",
    "    print(f\"姓名：{student['name']}, 英文：{student['english']}\")\n",
    "\n",
    "math_passed_students = list(filter(lambda student: student[\"math\"] >= 90, students))\n",
    "print(\"\\n數學 90 分以上的學生：\") \n",
    "for student in math_passed_students:\n",
    "    print(f\"姓名：{student['name']}, 數學：{student['math']}\")"
   ]
  }
 ],
 "metadata": {
  "kernelspec": {
   "display_name": "base",
   "language": "python",
   "name": "python3"
  },
  "language_info": {
   "codemirror_mode": {
    "name": "ipython",
    "version": 3
   },
   "file_extension": ".py",
   "mimetype": "text/x-python",
   "name": "python",
   "nbconvert_exporter": "python",
   "pygments_lexer": "ipython3",
   "version": "3.12.7"
  }
 },
 "nbformat": 4,
 "nbformat_minor": 5
}
