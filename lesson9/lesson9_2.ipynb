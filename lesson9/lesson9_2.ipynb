{
 "cells": [
  {
   "cell_type": "markdown",
   "id": "a71d24fb",
   "metadata": {},
   "source": [
    "@dataclasses.dataclass(*, init=True, repr=True, eq=True, order=False, unsafe_hash=False, frozen=False, match_args=True, kw_only=False, slots=False, weakref_slot=False)\n",
    "@dataclass 裝飾器會向類別新增各種 \"dunder\" 方法。如果類別中已存在任何新增的方法，則行為會取決於參數，如下方文件所述。裝飾器會回傳呼叫它的同一個類別；不會建立新類別。"
   ]
  },
  {
   "cell_type": "code",
   "execution_count": 35,
   "id": "ac987965",
   "metadata": {},
   "outputs": [],
   "source": [
    "from dataclasses import dataclass\n",
    "\n",
    "@dataclass\n",
    "class Student:\n",
    "    # 儲存資料 attribute ，proporty 都是屬性\n",
    "    name: str\n",
    "    chinese: int\n",
    "    math: int\n",
    "    english: int\n",
    "\n",
    "    @property   #用在只可讀不能修改的屬性\n",
    "    def sum (self):\n",
    "        return self.chinese + self.math + self.english\n",
    "    def avg (self): #實體方法\n",
    "        return round(self.sum / 3.0,ndigits=2)"
   ]
  },
  {
   "cell_type": "code",
   "execution_count": 42,
   "id": "6bd99bb2",
   "metadata": {},
   "outputs": [
    {
     "data": {
      "text/plain": [
       "__main__.Student"
      ]
     },
     "execution_count": 42,
     "metadata": {},
     "output_type": "execute_result"
    }
   ],
   "source": [
    "#stu1:Student = Student() #初始化一个Student对象\n",
    "stu1 = Student(name='小明', chinese=90, math=87, english=80) #class Student 有定義attribute\n",
    "# stu1 = Student() # 這樣會報錯，因為沒有預設值\n",
    "stu2 = Student(name='小華', chinese=93, math=80, english=75) #class Student 有定義attribute\n",
    "type(stu1)\n"
   ]
  },
  {
   "cell_type": "code",
   "execution_count": 19,
   "id": "17ca7f29",
   "metadata": {},
   "outputs": [
    {
     "data": {
      "text/plain": [
       "('小明', 90, 90, 80)"
      ]
     },
     "execution_count": 19,
     "metadata": {},
     "output_type": "execute_result"
    }
   ],
   "source": [
    "# 存取要使用點運算子，如: stu1.name\n",
    "# (stu1.name,stu1.chinese,stu1.math,stu1.english) #tuple\n",
    "stu1.name,stu1.chinese,stu1.math,stu1.english #tuple 小括號可省略\n",
    "# 取得屬性"
   ]
  },
  {
   "cell_type": "code",
   "execution_count": 43,
   "id": "003fd439",
   "metadata": {},
   "outputs": [
    {
     "name": "stdout",
     "output_type": "stream",
     "text": [
      "('小明', 90, 80, 87)\n",
      "257\n",
      "85.67\n"
     ]
    }
   ],
   "source": [
    "#stu1.chinese = 100 #可以修改\n",
    "# stu1.sum = 300 #這個屬性是只讀的，不能修改，一般的property只可以讀,不可以寫入(readonly)\n",
    "print((stu1.name, stu1.chinese, stu1.english, stu1.math)) \n",
    "print(stu1.sum) #呼叫property\n",
    "print(stu1.avg()) #呼叫實體方法"
   ]
  },
  {
   "cell_type": "code",
   "execution_count": 44,
   "id": "160f9782",
   "metadata": {},
   "outputs": [
    {
     "name": "stdout",
     "output_type": "stream",
     "text": [
      "('小華', 93, 75, 80)\n",
      "248\n",
      "82.67\n"
     ]
    }
   ],
   "source": [
    "print((stu2.name, stu2.chinese, stu2.english, stu2.math))\n",
    "print(stu2.sum)\n",
    "print(stu2.avg()) #呼叫實體方法"
   ]
  }
 ],
 "metadata": {
  "kernelspec": {
   "display_name": "base",
   "language": "python",
   "name": "python3"
  },
  "language_info": {
   "codemirror_mode": {
    "name": "ipython",
    "version": 3
   },
   "file_extension": ".py",
   "mimetype": "text/x-python",
   "name": "python",
   "nbconvert_exporter": "python",
   "pygments_lexer": "ipython3",
   "version": "3.12.7"
  }
 },
 "nbformat": 4,
 "nbformat_minor": 5
}
