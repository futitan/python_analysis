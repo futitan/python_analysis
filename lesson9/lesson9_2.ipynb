{
 "cells": [
  {
   "cell_type": "markdown",
   "id": "a71d24fb",
   "metadata": {},
   "source": [
    "@dataclasses.dataclass(*, init=True, repr=True, eq=True, order=False, unsafe_hash=False, frozen=False, match_args=True, kw_only=False, slots=False, weakref_slot=False)\n",
    "@dataclass 裝飾器會向類別新增各種 \"dunder\" 方法。如果類別中已存在任何新增的方法，則行為會取決於參數，如下方文件所述。裝飾器會回傳呼叫它的同一個類別；不會建立新類別。"
   ]
  },
  {
   "cell_type": "code",
   "execution_count": null,
   "id": "ac987965",
   "metadata": {},
   "outputs": [],
   "source": [
    "from dataclasses import dataclass\n",
    "\n",
    "@dataclass\n",
    "class Student:\n",
    "    # 儲存資料 attribute ，proporty 都是屬性\n",
    "    name: str\n",
    "    chinese: int\n",
    "    math: int\n",
    "    english: int"
   ]
  },
  {
   "cell_type": "code",
   "execution_count": null,
   "id": "6bd99bb2",
   "metadata": {},
   "outputs": [
    {
     "data": {
      "text/plain": [
       "__main__.Student"
      ]
     },
     "execution_count": 6,
     "metadata": {},
     "output_type": "execute_result"
    }
   ],
   "source": [
    "#stu1:Student = Student() #初始化一个Student对象\n",
    "stu1 = Student(name='小明', chinese=100, math=90, english=80) #class Student 有定義attribute\n",
    "# stu1 = Student() # 這樣會報錯，因為沒有預設值\n",
    "stu2 = Student(name='小華', chinese=90, math=80, english=70) #class Student 有定義attribute\n",
    "type(stu1)\n"
   ]
  },
  {
   "cell_type": "code",
   "execution_count": null,
   "id": "17ca7f29",
   "metadata": {},
   "outputs": [
    {
     "data": {
      "text/plain": [
       "('小明', 100, 90, 80)"
      ]
     },
     "execution_count": 7,
     "metadata": {},
     "output_type": "execute_result"
    }
   ],
   "source": [
    "# 存取要使用點運算子，如: stu1.name\n",
    "# (stu1.name,stu1.chinese,stu1.math,stu1.english) #tuple\n",
    "stu1.name,stu1.chinese,stu1.math,stu1.english #tuple 小括號可省略\n",
    "# 取得屬性"
   ]
  }
 ],
 "metadata": {
  "kernelspec": {
   "display_name": "base",
   "language": "python",
   "name": "python3"
  },
  "language_info": {
   "codemirror_mode": {
    "name": "ipython",
    "version": 3
   },
   "file_extension": ".py",
   "mimetype": "text/x-python",
   "name": "python",
   "nbconvert_exporter": "python",
   "pygments_lexer": "ipython3",
   "version": "3.12.7"
  }
 },
 "nbformat": 4,
 "nbformat_minor": 5
}
