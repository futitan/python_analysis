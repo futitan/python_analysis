{
 "cells": [
  {
   "cell_type": "markdown",
   "id": "a71d24fb",
   "metadata": {},
   "source": [
    "@dataclasses.dataclass(*, init=True, repr=True, eq=True, order=False, unsafe_hash=False, frozen=False, match_args=True, kw_only=False, slots=False, weakref_slot=False)\n",
    "@dataclass 裝飾器會向類別新增各種 \"dunder\" 方法。如果類別中已存在任何新增的方法，則行為會取決於參數，如下方文件所述。裝飾器會回傳呼叫它的同一個類別；不會建立新類別。"
   ]
  },
  {
   "cell_type": "code",
   "execution_count": 1,
   "id": "ac987965",
   "metadata": {},
   "outputs": [],
   "source": [
    "from dataclasses import dataclass\n",
    "\n",
    "@dataclass\n",
    "class Student:\n",
    "   pass"
   ]
  },
  {
   "cell_type": "code",
   "execution_count": null,
   "id": "6bd99bb2",
   "metadata": {},
   "outputs": [
    {
     "data": {
      "text/plain": [
       "__main__.Student"
      ]
     },
     "execution_count": 2,
     "metadata": {},
     "output_type": "execute_result"
    }
   ],
   "source": [
    "st1:Student = Student() #初始化一个Student对象\n",
    "type(st1)"
   ]
  }
 ],
 "metadata": {
  "kernelspec": {
   "display_name": "base",
   "language": "python",
   "name": "python3"
  },
  "language_info": {
   "codemirror_mode": {
    "name": "ipython",
    "version": 3
   },
   "file_extension": ".py",
   "mimetype": "text/x-python",
   "name": "python",
   "nbconvert_exporter": "python",
   "pygments_lexer": "ipython3",
   "version": "3.12.7"
  }
 },
 "nbformat": 4,
 "nbformat_minor": 5
}
