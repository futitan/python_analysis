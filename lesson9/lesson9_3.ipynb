{
 "cells": [
  {
   "cell_type": "code",
   "execution_count": 8,
   "id": "768f89b2",
   "metadata": {},
   "outputs": [
    {
     "data": {
      "text/plain": [
       "list"
      ]
     },
     "execution_count": 8,
     "metadata": {},
     "output_type": "execute_result"
    }
   ],
   "source": [
    "ls1=list()\n",
    "type(ls1)"
   ]
  },
  {
   "cell_type": "code",
   "execution_count": 9,
   "id": "5f994724",
   "metadata": {},
   "outputs": [
    {
     "data": {
      "text/plain": [
       "[3]"
      ]
     },
     "execution_count": 9,
     "metadata": {},
     "output_type": "execute_result"
    }
   ],
   "source": [
    "#使用list實體方法\n",
    "ls1.append(3)\n",
    "ls1"
   ]
  },
  {
   "cell_type": "code",
   "execution_count": 10,
   "id": "a698e59d",
   "metadata": {},
   "outputs": [
    {
     "data": {
      "text/plain": [
       "[3, 5, 6, 7]"
      ]
     },
     "execution_count": 10,
     "metadata": {},
     "output_type": "execute_result"
    }
   ],
   "source": [
    "ls1.extend((5,6,7))\n",
    "ls1"
   ]
  },
  {
   "cell_type": "code",
   "execution_count": null,
   "id": "de90909d",
   "metadata": {},
   "outputs": [
    {
     "data": {
      "text/plain": [
       "[100, 3, 5, 6, 7]"
      ]
     },
     "execution_count": 11,
     "metadata": {},
     "output_type": "execute_result"
    }
   ],
   "source": [
    "ls1.insert(0, 100) #\n",
    "ls1"
   ]
  },
  {
   "cell_type": "code",
   "execution_count": null,
   "id": "fdb3b214",
   "metadata": {},
   "outputs": [
    {
     "data": {
      "text/plain": [
       "[100, 3, 5, 6]"
      ]
     },
     "execution_count": 12,
     "metadata": {},
     "output_type": "execute_result"
    }
   ],
   "source": [
    "ls1.pop()  #移除 list 中給定位置的項目，並回傳它。如果沒有指定位置， a.pop() 將會移除 list 中最後的項目並回傳它。\n",
    "ls1"
   ]
  },
  {
   "cell_type": "code",
   "execution_count": 13,
   "id": "689a3b16",
   "metadata": {},
   "outputs": [
    {
     "name": "stdout",
     "output_type": "stream",
     "text": [
      "name\n",
      "小明\n",
      "===========\n",
      "chinese\n",
      "85\n",
      "===========\n",
      "english\n",
      "92\n",
      "===========\n",
      "math\n",
      "78\n",
      "===========\n"
     ]
    }
   ],
   "source": [
    "student = {\"name\": \"小明\", \"chinese\": 85, \"english\": 92, \"math\": 78}\n",
    "#使用 dict 實體方法 ，.items() 是dict 實體方法 \n",
    "for key, value in student.items():  #(key, value) 代表一個 tuple，這個 tuple 可省略()\n",
    "    print(key)\n",
    "    print(value)\n",
    "    print(\"===========\")"
   ]
  }
 ],
 "metadata": {
  "kernelspec": {
   "display_name": "base",
   "language": "python",
   "name": "python3"
  },
  "language_info": {
   "codemirror_mode": {
    "name": "ipython",
    "version": 3
   },
   "file_extension": ".py",
   "mimetype": "text/x-python",
   "name": "python",
   "nbconvert_exporter": "python",
   "pygments_lexer": "ipython3",
   "version": "3.12.7"
  }
 },
 "nbformat": 4,
 "nbformat_minor": 5
}
