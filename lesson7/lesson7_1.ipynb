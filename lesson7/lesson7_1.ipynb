{
 "cells": [
  {
   "cell_type": "code",
   "execution_count": null,
   "id": "3ca56290",
   "metadata": {},
   "outputs": [
    {
     "name": "stdout",
     "output_type": "stream",
     "text": [
      "身高:173cm\n",
      "體重:75kg\n",
      "BMI:25.1\n",
      "狀態:過重\n"
     ]
    }
   ],
   "source": [
    "# BMI 計算公式\n",
    "\n",
    "height:int = int(input(\"請輸入身高公分\"))\n",
    "weight:int = int(input(\"請輸入體重公斤\"))\n",
    "BMI = round(weight/pow(height/100,2),1)\n",
    "\n",
    "print(f\"身高:{height}\"\"cm\")\n",
    "print(f\"體重:{weight}\"\"kg\")\n",
    "print(f\"BMI:{BMI}\")\n",
    "\n",
    "if BMI < 18.5:\n",
    "    status = \"體重過輕\"\n",
    "elif BMI < 24:\n",
    "    status = \"正常\"\n",
    "elif BMI < 27:\n",
    "    status = \"過重\"\n",
    "elif BMI < 30:\n",
    "    status = \"輕度肥胖\"\n",
    "elif BMI <35:\n",
    "    status = \"中度肥胖\"\n",
    "else:\n",
    "    status = \"重度肥胖\"\n",
    "print(f\"狀態:{status}\")\n",
    "\n",
    "if __name__== '__main__':\n"
   ]
  },
  {
   "cell_type": "code",
   "execution_count": 2,
   "id": "fa45db32",
   "metadata": {},
   "outputs": [
    {
     "data": {
      "text/plain": [
       "{'__name__': '__main__',\n",
       " '__doc__': 'Automatically created module for IPython interactive environment',\n",
       " '__package__': None,\n",
       " '__loader__': None,\n",
       " '__spec__': None,\n",
       " '__builtin__': <module 'builtins' (built-in)>,\n",
       " '__builtins__': <module 'builtins' (built-in)>,\n",
       " '_ih': ['',\n",
       "  '# BMI 計算公式\\nheight:int = int(input(\"請輸入身高公分\"))\\nweight:int = int(input(\"請輸入體重公斤\"))\\nBMI = round(weight/pow(height/100,2),1)\\n\\nprint(f\"身高:{height}\"\"cm\")\\nprint(f\"體重:{weight}\"\"kg\")\\nprint(f\"BMI:{BMI}\")\\n\\nif BMI < 18.5:\\n    status = \"體重過輕\"\\nelif BMI < 24:\\n    status = \"正常\"\\nelif BMI < 27:\\n    status = \"過重\"\\nelif BMI < 30:\\n    status = \"輕度肥胖\"\\nelif BMI <35:\\n    status = \"中度肥胖\"\\nelse:\\n    status = \"重度肥胖\"\\nprint(f\"狀態:{status}\")',\n",
       "  'vars()'],\n",
       " '_oh': {},\n",
       " '_dh': [PosixPath('/workspaces/python_analysis/lesson7')],\n",
       " 'In': ['',\n",
       "  '# BMI 計算公式\\nheight:int = int(input(\"請輸入身高公分\"))\\nweight:int = int(input(\"請輸入體重公斤\"))\\nBMI = round(weight/pow(height/100,2),1)\\n\\nprint(f\"身高:{height}\"\"cm\")\\nprint(f\"體重:{weight}\"\"kg\")\\nprint(f\"BMI:{BMI}\")\\n\\nif BMI < 18.5:\\n    status = \"體重過輕\"\\nelif BMI < 24:\\n    status = \"正常\"\\nelif BMI < 27:\\n    status = \"過重\"\\nelif BMI < 30:\\n    status = \"輕度肥胖\"\\nelif BMI <35:\\n    status = \"中度肥胖\"\\nelse:\\n    status = \"重度肥胖\"\\nprint(f\"狀態:{status}\")',\n",
       "  'vars()'],\n",
       " 'Out': {},\n",
       " 'get_ipython': <bound method InteractiveShell.get_ipython of <ipykernel.zmqshell.ZMQInteractiveShell object at 0x7ba8bef94d40>>,\n",
       " 'exit': <IPython.core.autocall.ZMQExitAutocall at 0x7ba8bef94140>,\n",
       " 'quit': <IPython.core.autocall.ZMQExitAutocall at 0x7ba8bef94140>,\n",
       " 'open': <function _io.open(file, mode='r', buffering=-1, encoding=None, errors=None, newline=None, closefd=True, opener=None)>,\n",
       " '_': '',\n",
       " '__': '',\n",
       " '___': '',\n",
       " '__vsc_ipynb_file__': '/workspaces/python_analysis/lesson7/lesson7_1.ipynb',\n",
       " '_i': '# BMI 計算公式\\nheight:int = int(input(\"請輸入身高公分\"))\\nweight:int = int(input(\"請輸入體重公斤\"))\\nBMI = round(weight/pow(height/100,2),1)\\n\\nprint(f\"身高:{height}\"\"cm\")\\nprint(f\"體重:{weight}\"\"kg\")\\nprint(f\"BMI:{BMI}\")\\n\\nif BMI < 18.5:\\n    status = \"體重過輕\"\\nelif BMI < 24:\\n    status = \"正常\"\\nelif BMI < 27:\\n    status = \"過重\"\\nelif BMI < 30:\\n    status = \"輕度肥胖\"\\nelif BMI <35:\\n    status = \"中度肥胖\"\\nelse:\\n    status = \"重度肥胖\"\\nprint(f\"狀態:{status}\")',\n",
       " '_ii': '',\n",
       " '_iii': '',\n",
       " '_i1': '# BMI 計算公式\\nheight:int = int(input(\"請輸入身高公分\"))\\nweight:int = int(input(\"請輸入體重公斤\"))\\nBMI = round(weight/pow(height/100,2),1)\\n\\nprint(f\"身高:{height}\"\"cm\")\\nprint(f\"體重:{weight}\"\"kg\")\\nprint(f\"BMI:{BMI}\")\\n\\nif BMI < 18.5:\\n    status = \"體重過輕\"\\nelif BMI < 24:\\n    status = \"正常\"\\nelif BMI < 27:\\n    status = \"過重\"\\nelif BMI < 30:\\n    status = \"輕度肥胖\"\\nelif BMI <35:\\n    status = \"中度肥胖\"\\nelse:\\n    status = \"重度肥胖\"\\nprint(f\"狀態:{status}\")',\n",
       " '__annotations__': {'height': int, 'weight': int},\n",
       " 'height': 173,\n",
       " 'weight': 75,\n",
       " 'BMI': 25.1,\n",
       " 'status': '過重',\n",
       " '_i2': 'vars()'}"
      ]
     },
     "execution_count": 2,
     "metadata": {},
     "output_type": "execute_result"
    }
   ],
   "source": [
    "vars()"
   ]
  },
  {
   "cell_type": "markdown",
   "id": "963dcf5c",
   "metadata": {},
   "source": [
    "__name__== '__main__'----> 主要執行檔\n",
    "def --->自訂Function 的宣告\n",
    "def main() ---->main()為function， funtion為命名空間(namespace)，function 內的變數為區域變數\n",
    "文件(這邊指的是.py檔)的敘述--statements，文件的變數為全域變數\n",
    "在 Python 中，__XXX__ 這種命名方式通常稱為「魔法方法」或「特殊方法」。這些方法是 Python 語言的內建功能，通常用於實現某些特定的行為或功能。以下是一些常見的例子：\n",
    "\n",
    "常見的魔法方法\n",
    "初始化: __init__(self, ...)\n",
    "\n",
    "用於初始化新的物件。\n",
    "字符串表示: __str__(self)\n",
    "\n",
    "定義當使用 print() 或 str() 函數時的字符串表示。\n",
    "表示: __repr__(self)\n",
    "\n",
    "定義當使用 repr() 函數時的字符串表示，通常用於調試。\n",
    "加法運算: __add__(self, other)\n",
    "\n",
    "定義當使用 + 運算符時的行為。\n",
    "比較運算: __eq__(self, other)\n",
    "\n",
    "定義當使用 == 運算符時的行為。\n",
    "使用範例\n",
    "複製\n",
    "class Point:\n",
    "    def __init__(self, x, y):\n",
    "        self.x = x\n",
    "        self.y = y\n",
    "\n",
    "    def __str__(self):\n",
    "        return f\"Point({self.x}, {self.y})\"\n",
    "\n",
    "    def __add__(self, other):\n",
    "        return Point(self.x + other.x, self.y + other.y)\n",
    "\n",
    "p1 = Point(1, 2)\n",
    "p2 = Point(3, 4)\n",
    "p3 = p1 + p2  # 使用 __add__ 方法\n",
    "print(p3)     # 使用 __str__ 方法\n",
    "總結\n",
    "__XXX__ 的命名約定使得這些特殊方法在 Python 中具有特殊意義，並且可以讓開發者自定義類別的行為。"
   ]
  },
  {
   "cell_type": "markdown",
   "id": "1923764a",
   "metadata": {},
   "source": [
    "建立function的目的\n",
    "1.結構化\n",
    "2.減少main()程式碼\n",
    "3.重複呼叫\n",
    "4.減小程式複雜度"
   ]
  },
  {
   "cell_type": "code",
   "execution_count": null,
   "id": "9211967b",
   "metadata": {},
   "outputs": [],
   "source": [
    "def get_ststus(bmi:float)->str:  #(bmi:float) 為參數 ，->str 為return 出type ，可省略\n",
    "    if bmi < 18.5:\n",
    "        status = \"體重過輕\"\n",
    "    elif bmi < 24:\n",
    "        status = \"正常\"\n",
    "    elif bmi < 27:\n",
    "        status = \"過重\"\n",
    "    elif bmi < 30:\n",
    "        status = \"輕度肥胖\"\n",
    "    elif bmi <35:\n",
    "        status = \"中度肥胖\"\n",
    "    else:\n",
    "        status = \"重度肥胖\"\n",
    "    #print(f\"狀態:{status}\") #不要在FUNCTION 列印，表結果傳出來用return\n",
    "    return status \n",
    "\n",
    "def get_bmi(w:int,h:int)->float:\n",
    "    return round(w/pow(h/100,2),1)\n",
    "def main():\n",
    "    height:int = int(input(\"請輸入身高公分\"))\n",
    "    weight:int = int(input(\"請輸入體重公斤\"))\n",
    "   # BMI:float = round(weight/pow(height/100,2),1)\n",
    "    BMI:float =get_bmi(weight,height)\n",
    "\n",
    "    print(f\"身高:{height}\"\"cm\")\n",
    "    print(f\"體重:{weight}\"\"kg\")\n",
    "    print(f\"BMI:{BMI}\")\n",
    "    #get_ststus(BMI)  #(BMI)引數值(真正的值)\n",
    "    status:str=get_ststus(BMI)  #(BMI)引數值(真正的值)，改寫return 要有接收\n",
    "    print(f\"狀態:{status}\")\n",
    "    \n",
    "if __name__== '__main__':\n",
    "    main()"
   ]
  },
  {
   "cell_type": "markdown",
   "id": "ae86d461",
   "metadata": {},
   "source": [
    ".py --module\n",
    "資料夾--package"
   ]
  }
 ],
 "metadata": {
  "kernelspec": {
   "display_name": "base",
   "language": "python",
   "name": "python3"
  },
  "language_info": {
   "codemirror_mode": {
    "name": "ipython",
    "version": 3
   },
   "file_extension": ".py",
   "mimetype": "text/x-python",
   "name": "python",
   "nbconvert_exporter": "python",
   "pygments_lexer": "ipython3",
   "version": "3.12.7"
  }
 },
 "nbformat": 4,
 "nbformat_minor": 5
}
