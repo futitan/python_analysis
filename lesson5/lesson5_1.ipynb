{
 "cells": [
  {
   "cell_type": "markdown",
   "id": "5b98cfd3",
   "metadata": {},
   "source": [
    "### 巢狀判斷\n",
    "- 貓\n",
    "- 熊\n",
    "- 蜥蜴\n",
    "- 人類"
   ]
  },
  {
   "cell_type": "code",
   "execution_count": null,
   "id": "0b64be5d",
   "metadata": {},
   "outputs": [
    {
     "name": "stdout",
     "output_type": "stream",
     "text": [
      "熊\n"
     ]
    }
   ],
   "source": [
    "furry:bool=True\n",
    "small:bool=False\n",
    "\n",
    "if furry:\n",
    "    if small:\n",
    "        print(\"貓\")\n",
    "    else:\n",
    "        print(\"熊\")\n",
    "else:\n",
    "    if small:\n",
    "        print(\"小蜥蜴\")\n",
    "    else:\n",
    "        print(\"人類\")"
   ]
  },
  {
   "cell_type": "code",
   "execution_count": 16,
   "id": "0487e22e",
   "metadata": {},
   "outputs": [
    {
     "name": "stdout",
     "output_type": "stream",
     "text": [
      "學生等級:優\n"
     ]
    }
   ],
   "source": [
    "score:int=int(input(\"請輸入學生分數:\"))\n",
    "if score>= 80:\n",
    "    grade:str='優'\n",
    "else:\n",
    "    #小於80\n",
    "    if score >= 60:\n",
    "        #小於80同時大於等於60\n",
    "        grade:str='及格'\n",
    "    else:\n",
    "        grade:str='不及格'\n",
    "print(f\"學生等級:{grade}\")"
   ]
  },
  {
   "cell_type": "markdown",
   "id": "e00e2993",
   "metadata": {},
   "source": [
    "### 多項選擇\n",
    "- elif 是兩個條件 else and if 判斷式的組合"
   ]
  },
  {
   "cell_type": "code",
   "execution_count": 1,
   "id": "2f4d2e12",
   "metadata": {},
   "outputs": [
    {
     "name": "stdout",
     "output_type": "stream",
     "text": [
      "學生等級:及格\n"
     ]
    }
   ],
   "source": [
    "score:int=int(input(\"請輸入學生分數:\"))\n",
    "if score>= 80:\n",
    "    grade:str='優'\n",
    "elif score >= 60:\n",
    "   #小於80同時大於等於60\n",
    "    grade:str='及格'\n",
    "else:\n",
    "    grade:str='不及格'\n",
    "print(f\"學生等級:{grade}\")"
   ]
  },
  {
   "cell_type": "markdown",
   "id": "b8d1bab5",
   "metadata": {},
   "source": [
    "- 90(含)~100分為「優」\n",
    "- 80(含)~89分為「甲」\n",
    "- 70(含)~79分為「乙」\n",
    "- 60(含)~69分為「丙」\n",
    "- 0(含)~59分為「丁」"
   ]
  },
  {
   "cell_type": "code",
   "execution_count": 2,
   "id": "a853297e",
   "metadata": {},
   "outputs": [
    {
     "name": "stdout",
     "output_type": "stream",
     "text": [
      "學生等級:乙\n"
     ]
    }
   ],
   "source": [
    "score:int=int(input(\"請輸入學生分數:\"))\n",
    "if score>= 90:\n",
    "    grade:str='優'\n",
    "elif score >= 80:\n",
    "    grade:str='甲'\n",
    "elif score >= 70:\n",
    "    grade:str='乙'\n",
    "elif score >= 60:\n",
    "    grade:str='丙'\n",
    "else:\n",
    "    grade:str='丁'\n",
    "print(f\"學生等級:{grade}\")"
   ]
  },
  {
   "cell_type": "markdown",
   "id": "78bcec8e",
   "metadata": {},
   "source": [
    "輸入顧客購買金額，若金額在\n",
    "100000元打8折.\n",
    "50000打85折.\n",
    "30000打9折.\n",
    "10000打95折.\n",
    "\n",
    "請輸入購買金額:130000\n",
    "實付金額是: 104000.0 元"
   ]
  },
  {
   "cell_type": "code",
   "execution_count": null,
   "id": "902795b1",
   "metadata": {},
   "outputs": [
    {
     "name": "stdout",
     "output_type": "stream",
     "text": [
      "實付金額:104000.0\n"
     ]
    }
   ],
   "source": [
    "money:int=int(input(\"請輸入購買金額:\"))\n",
    "if money < 10000 :\n",
    "    pay_money:int = money\n",
    "elif money < 30000:\n",
    "    pay_money=money * 0.95\n",
    "elif money < 50000:\n",
    "    pay_money=money * 0.9\n",
    "elif money < 100000:\n",
    "    pay_money=money * 0.85\n",
    "else:\n",
    "    pay_money=money * 0.8\n",
    "\n",
    "print(f\"實付金額:{round(pay_money,ndigits=1)}\")"
   ]
  },
  {
   "cell_type": "code",
   "execution_count": null,
   "id": "436fe1e2",
   "metadata": {},
   "outputs": [
    {
     "name": "stdout",
     "output_type": "stream",
     "text": [
      "BMI:21.6\n",
      "狀態:正常\n"
     ]
    }
   ],
   "source": [
    "### BMI 計算公式\n",
    "height = int(input(\"請輸入身高公分\"))\n",
    "weight = int(input(\"請輸入體重公斤\"))\n",
    "try:\n",
    "    BMI = round((weight/((height/100)*(height/100))),1)\n",
    "    print(f\"BMI:{BMI}\",end=\"\")\n",
    "\n",
    "    if BMI <18.5:\n",
    "        status:str = str(\"體重過輕\")\n",
    "    elif 18.5<=BMI <24:\n",
    "        status:str = str(\"正常\")\n",
    "    elif 24<=BMI <27:\n",
    "        status:str = str(\"過重\")\n",
    "    elif 27<=BMI <30:\n",
    "        status:str = str(\"輕度肥胖\")\n",
    "    elif 30<=BMI <35:\n",
    "        status:str = str(\"中度肥胖\")\n",
    "    else:\n",
    "        status:str = str(\"重度肥胖\")\n",
    "    print(f\"狀態:{status}\")\n",
    "except:\n",
    "    print(\"發生錯誤\")"
   ]
  },
  {
   "cell_type": "markdown",
   "id": "108ddb0f",
   "metadata": {},
   "source": [
    "### 巢狀判斷"
   ]
  },
  {
   "cell_type": "code",
   "execution_count": 17,
   "id": "685f9ad9",
   "metadata": {},
   "outputs": [
    {
     "name": "stdout",
     "output_type": "stream",
     "text": [
      "獎金:1000\n"
     ]
    }
   ],
   "source": [
    "# 國文100同時數學100,獎金1000\n",
    "# 只有一科100分,獎金500\n",
    "chinese = int(input(\"請輸入國文分數\"))\n",
    "math = int(input(\"請輸入數學分數\"))\n",
    "#巢狀判斷\n",
    "bonus = 0\n",
    "if chinese == 100:\n",
    "    if math == 100:\n",
    "        bonus = 1000\n",
    "    else:\n",
    "        bonus = 500\n",
    "elif math == 100:\n",
    "    bonus = 500\n",
    "\n",
    "print(f\"獎金:{bonus}\")"
   ]
  },
  {
   "cell_type": "markdown",
   "id": "7e302df2",
   "metadata": {},
   "source": [
    "### 邏輯運算子"
   ]
  },
  {
   "cell_type": "code",
   "execution_count": 16,
   "id": "68bbd48c",
   "metadata": {},
   "outputs": [
    {
     "name": "stdout",
     "output_type": "stream",
     "text": [
      "獎金:0\n"
     ]
    }
   ],
   "source": [
    "# 國文100同時數學100,獎金1000\n",
    "# 只有一科100分,獎金500\n",
    "chinese = int(input(\"請輸入國文分數\"))\n",
    "math = int(input(\"請輸入數學分數\"))\n",
    "#巢狀判斷\n",
    "bonus = 0\n",
    "if chinese == 100 and math == 100:\n",
    "        bonus = 1000\n",
    "elif chinese == 100 or math == 100:\n",
    "    bonus = 500\n",
    "print(f\"獎金:{bonus}\")"
   ]
  },
  {
   "cell_type": "markdown",
   "id": "6350957d",
   "metadata": {},
   "source": [
    "### not 使用的方法\n",
    "##### True區塊和False區塊,對調"
   ]
  },
  {
   "cell_type": "code",
   "execution_count": 21,
   "id": "f769d184",
   "metadata": {},
   "outputs": [
    {
     "name": "stdout",
     "output_type": "stream",
     "text": [
      "可以考駕照\n"
     ]
    }
   ],
   "source": [
    "age = int(input(\"請輸入age:\"))\n",
    "if age < 18:\n",
    "    print(\"不可以考駕照\")\n",
    "else:\n",
    "    print(\"可以考駕照\")"
   ]
  },
  {
   "cell_type": "code",
   "execution_count": 22,
   "id": "8777f2b8",
   "metadata": {},
   "outputs": [
    {
     "name": "stdout",
     "output_type": "stream",
     "text": [
      "不可以考駕照\n"
     ]
    }
   ],
   "source": [
    "age = int(input(\"請輸入age:\"))\n",
    "if not age < 18:\n",
    "    print(\"可以考駕照\")\n",
    "else:\n",
    "    print(\"不可以考駕照\")"
   ]
  }
 ],
 "metadata": {
  "kernelspec": {
   "display_name": "base",
   "language": "python",
   "name": "python3"
  },
  "language_info": {
   "codemirror_mode": {
    "name": "ipython",
    "version": 3
   },
   "file_extension": ".py",
   "mimetype": "text/x-python",
   "name": "python",
   "nbconvert_exporter": "python",
   "pygments_lexer": "ipython3",
   "version": "3.12.7"
  }
 },
 "nbformat": 4,
 "nbformat_minor": 5
}
