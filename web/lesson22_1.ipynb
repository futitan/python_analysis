{
 "cells": [
  {
   "cell_type": "markdown",
   "id": "5f0115f9",
   "metadata": {},
   "source": [
    "https://www.perplexity.ai/search/python-min-ru-he-shi-yong-qing-IKspVcELRvGQd6hECJaqjQ"
   ]
  },
  {
   "cell_type": "code",
   "execution_count": 1,
   "id": "220ab2a3",
   "metadata": {},
   "outputs": [
    {
     "name": "stdout",
     "output_type": "stream",
     "text": [
      "天空之所以是藍色的，主要是因為地球大氣層對太陽光的「**瑞利散射**」（Rayleigh Scattering）作用。\n",
      "\n",
      "以下是詳細的解釋：\n",
      "\n",
      "1.  **太陽光的組成：**\n",
      "    *   太陽光看起來是白色的，但它實際上包含了所有可見光的顏色，就像彩虹一樣，從紅、橙、黃、綠、藍、靛、紫。\n",
      "    *   這些不同的顏色有不同的「波長」。紅光的波長最長，而藍光和紫光的波長最短。\n",
      "\n",
      "2.  **地球的大氣層：**\n",
      "    *   地球的大氣層由氮氣、氧氣等氣體分子以及微小的灰塵和水滴組成。\n",
      "    *   這些氣體分子的大小比可見光的波長要小得多。\n",
      "\n",
      "3.  **瑞利散射的原理：**\n",
      "    *   當太陽光穿過大氣層時，光線會與這些微小的氣體分子發生碰撞。\n",
      "    *   這種碰撞會使光線向四面八方散射開來，這個過程就叫做散射。\n",
      "    *   **關鍵點是：波長越短的光，散射得越厲害！**\n",
      "    *   因此，波長最短的藍光和紫光比波長較長的紅光和黃光被散射得更劇烈。\n",
      "\n",
      "4.  **為什麼我們看到藍色而不是紫色：**\n",
      "    *   雖然紫光的波長比藍光更短，理論上散射得更厲害，但我們眼睛對藍光更敏感。\n",
      "    *   同時，太陽光中藍光的含量也比紫光多一些。\n",
      "    *   綜合這兩個原因，使得我們主要看到的是藍色，而不是紫色。\n",
      "    *   這些被散射到四面八方的藍光，使得我們無論看向天空的哪個方向，都能看到藍色。\n",
      "\n",
      "**額外現象的解釋：**\n",
      "\n",
      "*   **日出日落時天空為什麼是紅色或橙色？**\n",
      "    *   當太陽接近地平線時，太陽光需要穿過更厚、更長的大氣層。\n",
      "    *   在這麼長的距離中，大部分的藍光和紫光在到達我們眼睛之前就已經被散射掉了。\n",
      "    *   剩下主要到達我們眼睛的光線就是波長較長的紅、橙、黃光，所以天空會呈現紅色、橙色或黃色。\n",
      "\n",
      "*   **太空為什麼是黑色的？**\n",
      "    *   在地球大氣層之外的太空，幾乎沒有氣體分子來散射太陽光。\n",
      "    *   所以，太陽光是直線傳播的，沒有被散射開來照亮背景，因此太空看起來是黑色的。\n",
      "\n",
      "總結來說，天空之所以是藍色的，是因為大氣層中的氣體分子選擇性地散射了太陽光中波長最短的藍光和紫光，而我們的眼睛對藍光更敏感，於是我們看到了藍色的天空。\n"
     ]
    }
   ],
   "source": [
    "from google import genai\n",
    "from dotenv import load_dotenv\n",
    "import os\n",
    "load_dotenv()\n",
    "\n",
    "client = genai.Client(api_key=os.environ['Gemini_API_KEY'])\n",
    "\n",
    "response = client.models.generate_content(\n",
    "    model=\"gemini-2.5-flash\", contents=\"天空為甚麼是藍的\"\n",
    ")\n",
    "print(response.text)"
   ]
  }
 ],
 "metadata": {
  "kernelspec": {
   "display_name": "myenv",
   "language": "python",
   "name": "python3"
  },
  "language_info": {
   "codemirror_mode": {
    "name": "ipython",
    "version": 3
   },
   "file_extension": ".py",
   "mimetype": "text/x-python",
   "name": "python",
   "nbconvert_exporter": "python",
   "pygments_lexer": "ipython3",
   "version": "3.10.16"
  }
 },
 "nbformat": 4,
 "nbformat_minor": 5
}
