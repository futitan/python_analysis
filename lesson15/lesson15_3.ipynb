{
 "cells": [
  {
   "cell_type": "markdown",
   "id": "617e5814",
   "metadata": {},
   "source": [
    "\n",
    "### numpy的reshape()\n",
    "- https://www.perplexity.ai/search/8fe65bd5-dbd8-45b1-8f50-8351f5dcbd9d"
   ]
  },
  {
   "cell_type": "code",
   "execution_count": 3,
   "id": "f0befaf3",
   "metadata": {},
   "outputs": [
    {
     "data": {
      "text/plain": [
       "(12,)"
      ]
     },
     "execution_count": 3,
     "metadata": {},
     "output_type": "execute_result"
    }
   ],
   "source": [
    "import numpy as np\n",
    "\n",
    "array =np.arange(12)\n",
    "array.shape"
   ]
  },
  {
   "cell_type": "code",
   "execution_count": 6,
   "id": "95c32bad",
   "metadata": {},
   "outputs": [
    {
     "data": {
      "text/plain": [
       "np.int64(6)"
      ]
     },
     "execution_count": 6,
     "metadata": {},
     "output_type": "execute_result"
    }
   ],
   "source": [
    "array1=array.reshape((3,4))\n",
    "array1.shape\n",
    "array1[1,2]"
   ]
  },
  {
   "cell_type": "code",
   "execution_count": 7,
   "id": "8903769c",
   "metadata": {},
   "outputs": [
    {
     "data": {
      "text/plain": [
       "np.int64(6)"
      ]
     },
     "execution_count": 7,
     "metadata": {},
     "output_type": "execute_result"
    }
   ],
   "source": [
    "array2 = array1.reshape((2, 6))\n",
    "array2[1,0]"
   ]
  },
  {
   "cell_type": "code",
   "execution_count": 8,
   "id": "11cedd9d",
   "metadata": {},
   "outputs": [
    {
     "data": {
      "text/plain": [
       "np.int64(6)"
      ]
     },
     "execution_count": 8,
     "metadata": {},
     "output_type": "execute_result"
    }
   ],
   "source": [
    "array3 = array2.reshape((1, 2, 1, 6, 1))\n",
    "array3[0,1,0,0,0]"
   ]
  }
 ],
 "metadata": {
  "kernelspec": {
   "display_name": "myenv",
   "language": "python",
   "name": "python3"
  },
  "language_info": {
   "codemirror_mode": {
    "name": "ipython",
    "version": 3
   },
   "file_extension": ".py",
   "mimetype": "text/x-python",
   "name": "python",
   "nbconvert_exporter": "python",
   "pygments_lexer": "ipython3",
   "version": "3.10.16"
  }
 },
 "nbformat": 4,
 "nbformat_minor": 5
}
