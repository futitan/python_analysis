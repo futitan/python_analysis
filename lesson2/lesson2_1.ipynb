{
  "nbformat": 4,
  "nbformat_minor": 0,
  "metadata": {
    "colab": {
      "provenance": [],
      "authorship_tag": "ABX9TyOl7oX3PnCCa15Qaj9HjOLu",
      "include_colab_link": true
    },
    "kernelspec": {
      "name": "python3",
      "display_name": "Python 3"
    },
    "language_info": {
      "name": "python"
    }
  },
  "cells": [
    {
      "cell_type": "markdown",
      "metadata": {
        "id": "view-in-github",
        "colab_type": "text"
      },
      "source": [
        "<a href=\"https://colab.research.google.com/github/roberthsu2003/__2025_04_13_python_sunday__/blob/main/lesson2_1.ipynb\" target=\"_parent\"><img src=\"https://colab.research.google.com/assets/colab-badge.svg\" alt=\"Open In Colab\"/></a>"
      ]
    },
    {
      "cell_type": "code",
      "execution_count": 1,
      "metadata": {
        "id": "IAPVo65xvl2A",
        "colab": {
          "base_uri": "https://localhost:8080/",
          "height": 35
        },
        "outputId": "30e73fa7-d139-4f82-d289-726092207700"
      },
      "outputs": [
        {
          "output_type": "execute_result",
          "data": {
            "text/plain": [
              "'這是字串'"
            ],
            "application/vnd.google.colaboratory.intrinsic+json": {
              "type": "string"
            }
          },
          "metadata": {},
          "execution_count": 1
        }
      ],
      "source": [
        "\"這是字串\""
      ]
    },
    {
      "cell_type": "code",
      "source": [
        "'這也是字串'"
      ],
      "metadata": {
        "colab": {
          "base_uri": "https://localhost:8080/",
          "height": 35
        },
        "id": "qd0rLmJJwleg",
        "outputId": "063f0677-46b4-4e59-c961-671626ec09ce"
      },
      "execution_count": 2,
      "outputs": [
        {
          "output_type": "execute_result",
          "data": {
            "text/plain": [
              "'這也是字串'"
            ],
            "application/vnd.google.colaboratory.intrinsic+json": {
              "type": "string"
            }
          },
          "metadata": {},
          "execution_count": 2
        }
      ]
    },
    {
      "cell_type": "code",
      "source": [
        "print('這是第1個數值:' + str(10) + \"\\n這是第2個數值:\" + str(20.0))"
      ],
      "metadata": {
        "colab": {
          "base_uri": "https://localhost:8080/"
        },
        "id": "PsRCcIgYwup0",
        "outputId": "73476acd-9c50-403c-c495-ff34324e3e91"
      },
      "execution_count": 8,
      "outputs": [
        {
          "output_type": "stream",
          "name": "stdout",
          "text": [
            "這是第1個數值:10\n",
            "這是第2個數值:20.0\n"
          ]
        }
      ]
    },
    {
      "cell_type": "code",
      "source": [
        "print('這是第1個數值:',str(10), \"\\n這是第2個數值:\", str(20.0))"
      ],
      "metadata": {
        "id": "kv5Ys8hkzgN6",
        "outputId": "57d0a01f-186b-4ab4-8b12-fe689d9bcc59",
        "colab": {
          "base_uri": "https://localhost:8080/"
        }
      },
      "execution_count": 9,
      "outputs": [
        {
          "output_type": "stream",
          "name": "stdout",
          "text": [
            "這是第1個數值: 10 \n",
            "這是第2個數值: 20.0\n"
          ]
        }
      ]
    },
    {
      "cell_type": "markdown",
      "source": [
        "### 字串插補"
      ],
      "metadata": {
        "id": "6f0JlZRAz9KC"
      }
    },
    {
      "cell_type": "code",
      "source": [
        "print(f\"這是第1個數值:{10}\\n這是第2個數值:{20.0}\")"
      ],
      "metadata": {
        "id": "RFRdVB3Tz4gN",
        "outputId": "a57ceeef-471b-4802-ab57-a11236fe0645",
        "colab": {
          "base_uri": "https://localhost:8080/"
        }
      },
      "execution_count": 12,
      "outputs": [
        {
          "output_type": "stream",
          "name": "stdout",
          "text": [
            "這是第1個數值:10\n",
            "這是第2個數值:20.0\n"
          ]
        }
      ]
    }
  ]
}