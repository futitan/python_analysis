{
 "cells": [
  {
   "cell_type": "markdown",
   "id": "5a9b6168",
   "metadata": {},
   "source": [
    "\n",
    "https://www.perplexity.ai/search/94f7fc8c-0595-416f-b080-1e318bd7404d"
   ]
  },
  {
   "cell_type": "code",
   "execution_count": 1,
   "id": "3af9be40",
   "metadata": {},
   "outputs": [
    {
     "data": {
      "text/plain": [
       "a  1   -0.516572\n",
       "   2    1.459135\n",
       "   3   -0.662817\n",
       "b  1   -0.208436\n",
       "   2   -0.657674\n",
       "c  3   -0.598835\n",
       "   1    0.628912\n",
       "d  2   -0.203519\n",
       "   3    0.473174\n",
       "dtype: float64"
      ]
     },
     "execution_count": 1,
     "metadata": {},
     "output_type": "execute_result"
    }
   ],
   "source": [
    "import numpy as np\n",
    "import pandas as pd\n",
    "\n",
    "data = pd.Series(np.random.randn(9),\n",
    "                index=[['a', 'a', 'a', 'b', 'b', 'c', 'c', 'd', 'd'],\n",
    "                       [1, 2, 3, 1, 2, 3, 1, 2, 3]])\n",
    "data"
   ]
  },
  {
   "cell_type": "code",
   "execution_count": 3,
   "id": "3282b1f9",
   "metadata": {},
   "outputs": [
    {
     "data": {
      "text/plain": [
       "1   -0.516572\n",
       "2    1.459135\n",
       "3   -0.662817\n",
       "dtype: float64"
      ]
     },
     "execution_count": 3,
     "metadata": {},
     "output_type": "execute_result"
    }
   ],
   "source": [
    "data['a']"
   ]
  },
  {
   "cell_type": "code",
   "execution_count": 4,
   "id": "0bbeb6ee",
   "metadata": {},
   "outputs": [
    {
     "data": {
      "text/plain": [
       "np.float64(1.45913499807294)"
      ]
     },
     "execution_count": 4,
     "metadata": {},
     "output_type": "execute_result"
    }
   ],
   "source": [
    "\n",
    "data['a'][2]"
   ]
  },
  {
   "cell_type": "code",
   "execution_count": 5,
   "id": "7f82a228",
   "metadata": {},
   "outputs": [
    {
     "data": {
      "text/plain": [
       "a  1   -0.516572\n",
       "   2    1.459135\n",
       "   3   -0.662817\n",
       "b  1   -0.208436\n",
       "   2   -0.657674\n",
       "dtype: float64"
      ]
     },
     "execution_count": 5,
     "metadata": {},
     "output_type": "execute_result"
    }
   ],
   "source": [
    "data['a':'b']"
   ]
  },
  {
   "cell_type": "code",
   "execution_count": 9,
   "id": "922a4c7a",
   "metadata": {},
   "outputs": [
    {
     "data": {
      "text/html": [
       "<div>\n",
       "<style scoped>\n",
       "    .dataframe tbody tr th:only-of-type {\n",
       "        vertical-align: middle;\n",
       "    }\n",
       "\n",
       "    .dataframe tbody tr th {\n",
       "        vertical-align: top;\n",
       "    }\n",
       "\n",
       "    .dataframe thead th {\n",
       "        text-align: right;\n",
       "    }\n",
       "</style>\n",
       "<table border=\"1\" class=\"dataframe\">\n",
       "  <thead>\n",
       "    <tr style=\"text-align: right;\">\n",
       "      <th></th>\n",
       "      <th>1</th>\n",
       "      <th>2</th>\n",
       "      <th>3</th>\n",
       "    </tr>\n",
       "  </thead>\n",
       "  <tbody>\n",
       "    <tr>\n",
       "      <th>a</th>\n",
       "      <td>-0.516572</td>\n",
       "      <td>1.459135</td>\n",
       "      <td>-0.662817</td>\n",
       "    </tr>\n",
       "    <tr>\n",
       "      <th>b</th>\n",
       "      <td>-0.208436</td>\n",
       "      <td>-0.657674</td>\n",
       "      <td>NaN</td>\n",
       "    </tr>\n",
       "    <tr>\n",
       "      <th>c</th>\n",
       "      <td>0.628912</td>\n",
       "      <td>NaN</td>\n",
       "      <td>-0.598835</td>\n",
       "    </tr>\n",
       "    <tr>\n",
       "      <th>d</th>\n",
       "      <td>NaN</td>\n",
       "      <td>-0.203519</td>\n",
       "      <td>0.473174</td>\n",
       "    </tr>\n",
       "  </tbody>\n",
       "</table>\n",
       "</div>"
      ],
      "text/plain": [
       "          1         2         3\n",
       "a -0.516572  1.459135 -0.662817\n",
       "b -0.208436 -0.657674       NaN\n",
       "c  0.628912       NaN -0.598835\n",
       "d       NaN -0.203519  0.473174"
      ]
     },
     "execution_count": 9,
     "metadata": {},
     "output_type": "execute_result"
    }
   ],
   "source": [
    "#Series->堆疊資料>(long data)\n",
    "#2維資料->非堆疊資料>(width data)\n",
    "data.unstack()  #DataFrame\n",
    "#type(data.unstack())"
   ]
  },
  {
   "cell_type": "code",
   "execution_count": null,
   "id": "6da58189",
   "metadata": {},
   "outputs": [
    {
     "data": {
      "text/plain": [
       "a  1   -0.516572\n",
       "   2    1.459135\n",
       "   3   -0.662817\n",
       "b  1   -0.208436\n",
       "   2   -0.657674\n",
       "c  1    0.628912\n",
       "   3   -0.598835\n",
       "d  2   -0.203519\n",
       "   3    0.473174\n",
       "dtype: float64"
      ]
     },
     "execution_count": 6,
     "metadata": {},
     "output_type": "execute_result"
    }
   ],
   "source": [
    "#Series->堆疊資料>(long data)\n",
    "#2維資料->非堆疊資料>(width data)\n",
    "data.unstack().stack()"
   ]
  }
 ],
 "metadata": {
  "kernelspec": {
   "display_name": "myenv",
   "language": "python",
   "name": "python3"
  },
  "language_info": {
   "codemirror_mode": {
    "name": "ipython",
    "version": 3
   },
   "file_extension": ".py",
   "mimetype": "text/x-python",
   "name": "python",
   "nbconvert_exporter": "python",
   "pygments_lexer": "ipython3",
   "version": "3.10.16"
  }
 },
 "nbformat": 4,
 "nbformat_minor": 5
}
