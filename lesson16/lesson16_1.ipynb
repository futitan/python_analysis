{
 "cells": [
  {
   "cell_type": "code",
   "execution_count": 1,
   "id": "46fa4f44",
   "metadata": {},
   "outputs": [],
   "source": [
    "import numpy as np\n",
    "import pandas as pd\n",
    "from pandas import Series,DataFrame\n",
    "\n",
    "np.random.seed(42)\n",
    "scores = np.random.randint(50, 101,(50,5))\n",
    "df1:DataFrame = pd.DataFrame(scores,\n",
    "             index=[f'學號{i}' for i in range(1,51)],\n",
    "             columns=[\"國文\",\"英文\",\"數學\",\"歷史\",\"生物\"])"
   ]
  }
 ],
 "metadata": {
  "kernelspec": {
   "display_name": "myenv",
   "language": "python",
   "name": "python3"
  },
  "language_info": {
   "codemirror_mode": {
    "name": "ipython",
    "version": 3
   },
   "file_extension": ".py",
   "mimetype": "text/x-python",
   "name": "python",
   "nbconvert_exporter": "python",
   "pygments_lexer": "ipython3",
   "version": "3.10.16"
  }
 },
 "nbformat": 4,
 "nbformat_minor": 5
}
